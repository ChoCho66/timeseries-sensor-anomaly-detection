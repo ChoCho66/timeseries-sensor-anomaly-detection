{
  "cells": [
    {
      "cell_type": "markdown",
      "metadata": {
        "id": "P6pO8Cz0igYd",
        "pycharm": {
          "name": "#%% md\n"
        }
      },
      "source": [
        "<h1 align=center>Unsupervised Anomaly Sensor Detection - IMS Bearing NASA Acoustics and Vibration Database</h1>"
      ]
    },
    {
      "cell_type": "markdown",
      "metadata": {
        "id": "yWQnwn0sau9B",
        "pycharm": {
          "name": "#%% md\n"
        }
      },
      "source": [
        "<h3 align=center>PyCaret Anomaly detection Models vs - BiLSTM Autoencoder</h3>"
      ]
    },
    {
      "cell_type": "markdown",
      "metadata": {
        "id": "LNVq51-cau9B",
        "pycharm": {
          "name": "#%% md\n"
        }
      },
      "source": [
        "## 1. Introduction"
      ]
    },
    {
      "cell_type": "markdown",
      "metadata": {
        "id": "gNX_v4qyau9B",
        "pycharm": {
          "name": "#%% md\n"
        }
      },
      "source": [
        "In this project 4 unsupervised anomaly detection models from Pycaret will be used to detect anomalies in sensor bearing sensor signal. These models are: Decision Tree and Support Vector Machine. In addition, a customed LSTM model will be built using the PyTorch Framework to autoencode and decode the signal input. The data comprises three vibrational sensor readings from the NASA Acoustics and Vibration Database. The datasets contained text files with 1-second vibration signal snapshots (20,480 data points) recorded at 5 and 10 minute intervals at a sampling rate of 20 kHz."
      ]
    },
    {
      "cell_type": "markdown",
      "metadata": {
        "id": "9HK7mRQWau9C",
        "pycharm": {
          "name": "#%% md\n"
        }
      },
      "source": [
        "* Pycaret is a high-performance, open-source, low code library for ML modeling. It provides highly-efficient CPU/GPU implementations of ML models for  cluster analysis, classification,  time series and anomaly detection. Snap ML not only accelerates ML algorithms through system awareness, but also offers novel ML algorithms with best-in-class accuracy. Pycaret also automates ML workflows and aims to democratize ML. For more information, please visit [here](https://pycaret.org/).\n",
        "\n",
        "* PyTorch is a machine learning framework used for applications such as computer vision and natural language processing, originally developed by Meta AI and now part of the Linux Foundation umbrella. For more information, please visit [here](https://pytorch.org/)."
      ]
    },
    {
      "cell_type": "markdown",
      "metadata": {
        "id": "nCQVn_uoau9C",
        "pycharm": {
          "name": "#%% md\n"
        }
      },
      "source": [
        "## 2. Tasks\n",
        "\n",
        "The objective of this piece of work is to identify the best model(s) than can anticipate potential sensor failures at the earliest stage in an unsupervised fashion using low code and deep learnig models."
      ]
    },
    {
      "cell_type": "markdown",
      "metadata": {
        "id": "eImQKyHOau9D",
        "pycharm": {
          "name": "#%% md\n"
        }
      },
      "source": [
        "1. Visualize the data an applied tranformations.\n",
        "2. Detect anomalies from sensor vibration signals using Pycaret anomaly detection models.\n",
        "3. Buid BiLSTM artificial neural networks to predict anomalies and train models.\n",
        "4. Visualize the results with plot\n",
        "5. Test the models with an idependent dataset\n",
        "6. Measure the goodness of the clusters generated using in usupervised clustering metrics\n",
        "7. Compare the performance of the model using non-parametric statistics\n",
        "8. Conclusion\n"
      ]
    },
    {
      "cell_type": "markdown",
      "metadata": {
        "id": "fA91YLQiau9D",
        "pycharm": {
          "name": "#%% md\n"
        }
      },
      "source": [
        "## Dataset"
      ]
    },
    {
      "cell_type": "markdown",
      "metadata": {
        "id": "zoX62gnJau9E",
        "pycharm": {
          "name": "#%% md\n"
        }
      },
      "source": [
        "The data comprises three datasets vibrational sensor readings from the NASA Acoustics and Vibration Database. The datasets contained text files with 1-second vibration signal snapshots (20,480 data points) recorded at 5 and 10 minute intervals at a sampling rate of 20 kHz. Each datset contains reading at from four sensors.\n",
        "\n",
        "The dataset is available on [kaggle](https://www.kaggle.com/datasets/vinayak123tyagi/bearing-dataset)."
      ]
    },
    {
      "cell_type": "markdown",
      "metadata": {
        "id": "21pGDf43au9E",
        "pycharm": {
          "name": "#%% md\n"
        }
      },
      "source": [
        "## Installing required libraries"
      ]
    },
    {
      "cell_type": "code",
      "execution_count": null,
      "metadata": {
        "id": "PNj0sU4cau9E",
        "pycharm": {
          "name": "#%%\n"
        }
      },
      "outputs": [],
      "source": [
        "!pip install pycaret\n",
        "!pip install mlflow\n",
        "!pip install umap-learn\n",
        "!pip install seaborn\n",
        "# !pip install git+https://github.com/maximtrp/scikit-posthocs.git\n",
        "!pip install scikit-posthocs"
      ]
    },
    {
      "cell_type": "markdown",
      "metadata": {
        "id": "xx9zAYEBau9G",
        "pycharm": {
          "name": "#%% md\n"
        }
      },
      "source": [
        "<!-- ## Importing require libraries -->"
      ]
    },
    {
      "cell_type": "code",
      "execution_count": 7,
      "metadata": {
        "id": "-9pabcHHau9G",
        "pycharm": {
          "name": "#%%\n"
        }
      },
      "outputs": [],
      "source": [
        "# Import libraries\n",
        "import os, gc\n",
        "import numpy as np\n",
        "import pandas as pd\n",
        "from tqdm import tqdm\n",
        "import time\n",
        "\n",
        "import warnings\n",
        "warnings.filterwarnings('ignore')\n",
        "\n",
        "import matplotlib.pyplot as plt\n",
        "%matplotlib inline\n",
        "np.random.seed(42)"
      ]
    },
    {
      "cell_type": "markdown",
      "metadata": {
        "id": "lRRc_NWqau9G",
        "pycharm": {
          "name": "#%% md\n"
        }
      },
      "source": [
        "<!-- ## Import supportig scripts -->"
      ]
    },
    {
      "cell_type": "code",
      "execution_count": null,
      "metadata": {},
      "outputs": [],
      "source": [
        "!pip install natsort"
      ]
    },
    {
      "cell_type": "code",
      "execution_count": 9,
      "metadata": {
        "id": "WoXyLem2au9G",
        "pycharm": {
          "name": "#%%\n"
        }
      },
      "outputs": [],
      "source": [
        "from concat_datasets import concat_raw_data, average_signal_dataset, dir_list\n",
        "from plots import *"
      ]
    },
    {
      "cell_type": "markdown",
      "metadata": {
        "id": "LigAA3Nlau9H",
        "pycharm": {
          "name": "#%% md\n"
        }
      },
      "source": [
        "<!-- # Datasets processing -->"
      ]
    },
    {
      "cell_type": "markdown",
      "metadata": {
        "id": "dmxpbEytau9H",
        "pycharm": {
          "name": "#%% md\n"
        }
      },
      "source": [
        "<!-- Data can be processed by changing the ```concat_data``` to True or running the script ```concat_datasets.py```. The ```txt``` dataset are concatenated and put together into one file per dataset test. In addition, data was transform (denoised) using the packag Scipy Fast Fourier Transforms (fft).\n",
        "\n",
        "For the purpose of this work we will use the concatenated data with average reading for each of the 204080 sample points. -->"
      ]
    },
    {
      "cell_type": "code",
      "execution_count": 10,
      "metadata": {
        "id": "M2e5L_odau9H",
        "pycharm": {
          "name": "#%%\n"
        }
      },
      "outputs": [],
      "source": [
        "datasets = {'dataset_path1' : './ims_bearing/1st_test/1st_test',\n",
        "           'dataset_path2' : './ims_bearing/2nd_test/2nd_test',\n",
        "           'dataset_path3' : './ims_bearing/3rd_test/4th_test/txt'}"
      ]
    },
    {
      "cell_type": "code",
      "execution_count": 11,
      "metadata": {
        "id": "u-YAaz7gau9H",
        "pycharm": {
          "name": "#%%\n"
        }
      },
      "outputs": [],
      "source": [
        "csv_data = os.path.join(os.getcwd(), 'csv_data')\n",
        "os.makedirs(csv_data, exist_ok=True)"
      ]
    },
    {
      "cell_type": "code",
      "execution_count": 12,
      "metadata": {
        "id": "YS3WMNAuau9H",
        "pycharm": {
          "name": "#%%\n"
        }
      },
      "outputs": [],
      "source": [
        "concat_data = False\n",
        "# concat_data = True\n",
        "def generate_datasets(datasets_dict=datasets, csv_path=csv_data):\n",
        "    for i, (k, v) in enumerate(datasets_dict.items()):\n",
        "        dataset_num = i + 1\n",
        "        average_signal_dataset(v, dataset=dataset_num, csv_path=csv_path)\n",
        "        concat_raw_data(v, csv_path, dataset=dataset_num, fourier_tr=True, detrends=False)\n",
        "\n",
        "if concat_data:\n",
        "    generate_datasets(datasets)"
      ]
    },
    {
      "cell_type": "markdown",
      "metadata": {
        "id": "DN0kpkotau9H",
        "pycharm": {
          "name": "#%% md\n"
        }
      },
      "source": [
        "<!-- # Exploratory Data Analysis EDA -->"
      ]
    },
    {
      "cell_type": "code",
      "execution_count": 13,
      "metadata": {
        "id": "Bm9yUgt_au9I",
        "pycharm": {
          "name": "#%%\n"
        }
      },
      "outputs": [],
      "source": [
        "fft_dataset = [d for d in dir_list(csv_data) if 'fft' in d]\n",
        "avg_dataset = [d for d in dir_list(csv_data) if not 'fft' in d]"
      ]
    },
    {
      "cell_type": "code",
      "execution_count": 14,
      "metadata": {
        "id": "KGntwXa8au9I",
        "pycharm": {
          "name": "#%%\n"
        }
      },
      "outputs": [],
      "source": [
        "def read_concat_data(path=None, fname=None):\n",
        "    df = pd.read_csv(os.path.join(path, fname), index_col=0)\n",
        "    df.index = pd.to_datetime(df.index)\n",
        "    return df"
      ]
    },
    {
      "cell_type": "code",
      "execution_count": null,
      "metadata": {
        "colab": {
          "base_uri": "https://localhost:8080/"
        },
        "id": "Cpz7ZmMmau9I",
        "outputId": "b0b15c22-22cb-4884-e256-391ac5b1667f",
        "pycharm": {
          "name": "#%%\n"
        }
      },
      "outputs": [],
      "source": [
        "avg_dataset"
      ]
    },
    {
      "cell_type": "code",
      "execution_count": null,
      "metadata": {
        "colab": {
          "base_uri": "https://localhost:8080/",
          "height": 318
        },
        "id": "L6spTwHIau9I",
        "outputId": "5a5faf00-4015-48cd-cad3-341858dcd545",
        "pycharm": {
          "name": "#%%\n"
        }
      },
      "outputs": [],
      "source": [
        "avg_df1 = read_concat_data(csv_data, fname=avg_dataset[0])\n",
        "print(f'Dataset size: {len(avg_df1)}')\n",
        "avg_df1.describe()"
      ]
    },
    {
      "cell_type": "code",
      "execution_count": null,
      "metadata": {
        "colab": {
          "base_uri": "https://localhost:8080/",
          "height": 318
        },
        "id": "3l9o3JCxau9J",
        "outputId": "49818ddb-824c-40f4-f3d0-17f01c765e3c",
        "pycharm": {
          "name": "#%%\n"
        }
      },
      "outputs": [],
      "source": [
        "avg_df2 = read_concat_data(csv_data, fname=avg_dataset[1])\n",
        "print(f'Dataset size: {len(avg_df2)}')\n",
        "avg_df2.describe()"
      ]
    },
    {
      "cell_type": "code",
      "execution_count": null,
      "metadata": {},
      "outputs": [],
      "source": [
        "avg_df3 = read_concat_data(csv_data, fname=avg_dataset[2])\n",
        "print(f'Dataset size: {len(avg_df3)}')\n",
        "avg_df3.describe()"
      ]
    },
    {
      "cell_type": "code",
      "execution_count": null,
      "metadata": {
        "colab": {
          "base_uri": "https://localhost:8080/"
        },
        "id": "xd465TSKau9J",
        "outputId": "62f0607d-d161-4975-ac01-8932fec8fb65",
        "pycharm": {
          "name": "#%%\n"
        }
      },
      "outputs": [],
      "source": [
        "# Release resources del the daset not used\n",
        "del avg_df1\n",
        "gc.collect()"
      ]
    },
    {
      "cell_type": "markdown",
      "metadata": {
        "id": "4t4HtyB0au9K",
        "pycharm": {
          "name": "#%% md\n"
        }
      },
      "source": [
        "<!-- ## Visualise -->"
      ]
    },
    {
      "cell_type": "markdown",
      "metadata": {
        "id": "MssVWneVau9K",
        "pycharm": {
          "name": "#%% md\n"
        }
      },
      "source": [
        "<!-- * For this piece of work only the average readings datasets 2 and 3 will be used. -->\n"
      ]
    },
    {
      "cell_type": "code",
      "execution_count": null,
      "metadata": {
        "colab": {
          "base_uri": "https://localhost:8080/",
          "height": 288
        },
        "id": "mCTF5Q-cau9K",
        "outputId": "dba27ee9-642f-4323-be63-af0f30d6d090",
        "pycharm": {
          "name": "#%%\n"
        }
      },
      "outputs": [],
      "source": [
        "view_all(avg_df2, plot_name='avg_dataset2')"
      ]
    },
    {
      "cell_type": "code",
      "execution_count": null,
      "metadata": {},
      "outputs": [],
      "source": [
        "view_all(avg_df3, plot_name='avg_dataset3')"
      ]
    },
    {
      "cell_type": "code",
      "execution_count": null,
      "metadata": {},
      "outputs": [],
      "source": [
        "view_per_channel(avg_df2, plot_name='view_per_channel_avgdf2')"
      ]
    },
    {
      "cell_type": "code",
      "execution_count": null,
      "metadata": {
        "colab": {
          "base_uri": "https://localhost:8080/",
          "height": 950
        },
        "id": "ezgOL53Hau9P",
        "outputId": "b8c81f81-0f18-45ab-8aa8-2ecf32a3d463",
        "pycharm": {
          "name": "#%%\n"
        }
      },
      "outputs": [],
      "source": [
        "view_per_channel(avg_df3, plot_name='view_per_channel_avgdf3')"
      ]
    },
    {
      "cell_type": "markdown",
      "metadata": {
        "id": "yDs1Fww2au9P",
        "pycharm": {
          "name": "#%% md\n"
        }
      },
      "source": [
        "<!-- # Unsupervised Anomaly detection using PyCaret -->"
      ]
    },
    {
      "cell_type": "markdown",
      "metadata": {
        "id": "ExQnWRxDau9P",
        "pycharm": {
          "name": "#%% md\n"
        }
      },
      "source": [
        "<!-- The approach to unsupervised machine learning is:\n",
        "\n",
        "* Dataset `avg_df2` will be used to train the model and to obtain the anomaly labels.\n",
        "* The best models will be tested on unseen data , dataset `avg_df3`.\n",
        "    \n",
        "     -->"
      ]
    },
    {
      "cell_type": "code",
      "execution_count": 24,
      "metadata": {
        "id": "-5kDlAEXau9P",
        "pycharm": {
          "name": "#%%\n"
        }
      },
      "outputs": [],
      "source": [
        "# Create directoty to save anomalies for model comparison\n",
        "csv_files = os.path.join(os.getcwd(), 'csv_files')\n",
        "os.makedirs(csv_files, exist_ok=True)"
      ]
    },
    {
      "cell_type": "code",
      "execution_count": 25,
      "metadata": {},
      "outputs": [],
      "source": [
        "# pip install \"numpy<2\""
      ]
    },
    {
      "cell_type": "code",
      "execution_count": 26,
      "metadata": {},
      "outputs": [],
      "source": [
        "# pip install pycaret[full]"
      ]
    },
    {
      "cell_type": "code",
      "execution_count": 27,
      "metadata": {},
      "outputs": [],
      "source": [
        "# !pip install --upgrade joblib"
      ]
    },
    {
      "cell_type": "code",
      "execution_count": 28,
      "metadata": {},
      "outputs": [],
      "source": [
        "# !pip install --upgrade pycaret[full]"
      ]
    },
    {
      "cell_type": "code",
      "execution_count": 29,
      "metadata": {},
      "outputs": [],
      "source": [
        "# # !pip install pipdeptree\n",
        "# !pipdeptree"
      ]
    },
    {
      "cell_type": "code",
      "execution_count": 30,
      "metadata": {
        "id": "VS0hjtkUau9Q",
        "pycharm": {
          "name": "#%%\n"
        }
      },
      "outputs": [],
      "source": [
        "from pycaret.anomaly import *"
      ]
    },
    {
      "cell_type": "code",
      "execution_count": null,
      "metadata": {
        "colab": {
          "base_uri": "https://localhost:8080/",
          "height": 457
        },
        "id": "2SZnYqPxau9Q",
        "outputId": "ceca6bb6-78c7-4da9-946a-294eb2538084",
        "pycharm": {
          "name": "#%%\n"
        }
      },
      "outputs": [],
      "source": [
        "# initiate setup\n",
        "exp = setup(avg_df2, session_id=123, log_experiment=False, use_gpu=True)"
      ]
    },
    {
      "cell_type": "code",
      "execution_count": null,
      "metadata": {
        "colab": {
          "base_uri": "https://localhost:8080/"
        },
        "id": "PqemcphshqYl",
        "outputId": "60f76994-8e76-46c7-e51e-de032ffdd025"
      },
      "outputs": [],
      "source": [
        "exp.get_config()"
      ]
    },
    {
      "cell_type": "code",
      "execution_count": null,
      "metadata": {
        "colab": {
          "base_uri": "https://localhost:8080/",
          "height": 457
        },
        "id": "Qcq0JCgHau9Q",
        "outputId": "f7eb1818-bd66-4469-ce3d-adba0c2db9c1",
        "pycharm": {
          "name": "#%%\n"
        }
      },
      "outputs": [],
      "source": [
        "# Show avaialable models\n",
        "all_anomaly_models = models()\n",
        "all_anomaly_models"
      ]
    },
    {
      "cell_type": "markdown",
      "metadata": {
        "id": "Pl6K6D7Qau9Q",
        "pycharm": {
          "name": "#%% md\n"
        }
      },
      "source": [
        "<!-- ## Model Selection -->"
      ]
    },
    {
      "cell_type": "markdown",
      "metadata": {
        "id": "5v_Bxpcfau9Q",
        "pycharm": {
          "name": "#%% md\n"
        }
      },
      "source": [
        "<!-- * Isolation Forest **iforest**\n",
        "* Minimum Covariance Determinant **mcd**\n",
        "* Clustering-Based Local outlier **cluster**\n",
        "* One Class SVM **svm**\n",
        "* Histogram-based Outlier Detection **histogram**\n",
        "* K-Nearest Neighbors Detector **knn** -->"
      ]
    },
    {
      "cell_type": "code",
      "execution_count": 34,
      "metadata": {
        "id": "CzB30AIoau9Q",
        "pycharm": {
          "name": "#%%\n"
        }
      },
      "outputs": [],
      "source": [
        "selected_models = ['cluster', 'histogram', 'iforest', 'knn', 'mcd', 'svm']"
      ]
    },
    {
      "cell_type": "markdown",
      "metadata": {
        "id": "0QdJ-dC5au9R",
        "pycharm": {
          "name": "#%% md\n"
        }
      },
      "source": [
        "<!-- ### Build train and predict fuction -->"
      ]
    },
    {
      "cell_type": "code",
      "execution_count": null,
      "metadata": {
        "colab": {
          "base_uri": "https://localhost:8080/",
          "height": 346
        },
        "id": "SVr4rt86oXbD",
        "outputId": "458a1a33-53be-4996-bdb9-e2f558f1859e",
        "pycharm": {
          "name": "#%%\n"
        }
      },
      "outputs": [],
      "source": [
        "sns.set(rc={'figure.figsize': (4, 3)})\n",
        "sns.set_style('whitegrid')\n",
        "sns.distplot(avg_df2.values, bins=30, kde=True)\n",
        "plt.grid(color ='k', ls= '--', lw=0.5)\n",
        "plt.xlabel('Avg signal')\n",
        "plt.title('Dataset distribution avg_df2')\n",
        "plt.show()"
      ]
    },
    {
      "cell_type": "code",
      "execution_count": null,
      "metadata": {
        "colab": {
          "base_uri": "https://localhost:8080/"
        },
        "id": "NXxPfaG1u6xw",
        "outputId": "5c44669d-7589-4ccb-b262-c119d6892b31",
        "pycharm": {
          "name": "#%%\n"
        }
      },
      "outputs": [],
      "source": [
        "np.percentile(avg_df3.values, [80, 85, 90, 91, 92, 93, 95, 98, 99])"
      ]
    },
    {
      "cell_type": "markdown",
      "metadata": {
        "id": "WDFqE7DUeMOW"
      },
      "source": [
        "<!-- __Note__: We will used the default contamination of 0.05, this to prevent over fitting and test the model on unseen data(avg_df3). -->"
      ]
    },
    {
      "cell_type": "code",
      "execution_count": 37,
      "metadata": {
        "id": "CJvFenMnau9R",
        "pycharm": {
          "name": "#%%\n"
        }
      },
      "outputs": [],
      "source": [
        "def train_model(model_name=None, fraction=None):\n",
        "\n",
        "    print(f'Assigning labels: {model_name} model')\n",
        "    model = create_model(model_name, fraction=fraction)\n",
        "    model_anomalies = assign_model(model)\n",
        "    unique_labels = model_anomalies.Anomaly.unique()\n",
        "    print(f'Unique labels: {unique_labels}')\n",
        "    save_model(model, f'{model_name}_pipeline')\n",
        "    return model_anomalies\n"
      ]
    },
    {
      "cell_type": "code",
      "execution_count": 38,
      "metadata": {
        "id": "tpUPp7JAau9R",
        "pycharm": {
          "name": "#%%\n"
        }
      },
      "outputs": [],
      "source": [
        "def main(anomly_model_list=None, fraction=None):\n",
        "\n",
        "    results_dict = {}\n",
        "    anomaly_scores = {}\n",
        "    for m in anomly_model_list:\n",
        "        results = train_model(m, fraction=fraction)\n",
        "        results_dict[m] = results.Anomaly\n",
        "        anomaly_scores[m] = results.Anomaly_Score\n",
        "        results_filter = results[results.Anomaly == 1]\n",
        "        print(f'Anomalies detected by {m} model')\n",
        "        print(f'Anomalous readings: {len(results_filter)}')\n",
        "        print(' ')\n",
        "\n",
        "    df_anomalies = pd.DataFrame.from_dict(results_dict)\n",
        "    df_scores = pd.DataFrame.from_dict(anomaly_scores)\n",
        "\n",
        "    return df_anomalies, df_scores"
      ]
    },
    {
      "cell_type": "markdown",
      "metadata": {
        "id": "JTPhHAzZau9R",
        "pycharm": {
          "name": "#%% md\n"
        }
      },
      "source": [
        "<!-- ##  Run the training -->"
      ]
    },
    {
      "cell_type": "code",
      "execution_count": null,
      "metadata": {
        "colab": {
          "base_uri": "https://localhost:8080/",
          "height": 660,
          "referenced_widgets": [
            "ae978ba3f3984de7b20d252d4132ece9",
            "9cf75f20e59f46628adc2a8e6729201a",
            "ab5a743af1704321a2942eb48a31bc6a",
            "606cd8fff4094523bf5b1ae040d2323d",
            "537b5b22f9934d93b2ca5c942ba6a57b",
            "c0ae8c84390b4c309f9d4fc096af7940",
            "8a60c53ece784845876726274b0a9ca4",
            "e7474c735242412b8bd86204f18f9600",
            "13bec598229848d880d1552d5c16aed3",
            "d14a438ff3f64d0f89cce2b4eca10478",
            "449f9c82e74e40caa9291ea56d949b3f",
            "dbad37a4834b44aab30522fd857e5b51",
            "69e126645d7f43e6afaf77bb4a00c6e4",
            "ce6fb3ff536a4d2eac8fbc7739823e88",
            "40e3c8c2fb8943b0831d199c7031a511",
            "eec3c98b7970433dabf52de618f858a0",
            "b8c2d733a665426790fe337e5a2f1cee",
            "30d1cea2f33442a0a2d5afe95d8595b4",
            "84b5e2c25ab54d3ba00d605c06631a39",
            "6eacf75e4a5c45efa66990425ad18b03",
            "67a0f12eb3a84d52bbc0a783c9257feb",
            "f267bbcec6cd41fa91e90deb9452b0bb",
            "9b2612a7a0004404b3a8db0c92a119e3",
            "34833153f2274d4b8337a6a6069a6a99",
            "d29f50fc44b048b782841320d7a5a8aa",
            "14c9179787074b5783c81366b2f2cf8b",
            "b72192d8567b467bbd40956e27dd7806",
            "1633015dfc0d4b059152d2922f571377",
            "ee5b55dd3de34d6dbf796c2fcbc5b91b",
            "1697cb702a30446e8dad7959b89b13cc",
            "3761bdf7c40441478ec1eef765dd9071",
            "bfd1c70079274488813bf439b3c9a15a",
            "95501ddf6aa64ecc8c1b9d850b9d469e",
            "61cc1bd3d6f4448fb7bb3667f354262a",
            "c233b7c68e3f4a5db87ab48775fa051c",
            "6cfe01d191844ebfa0e7ef04bcb35981",
            "7355a80abddc4bc19c465e805c931be2",
            "c228c17647fa45a9b90e34e2f5da3ec6",
            "1ea7e2a558de4c4d8eeebec2aa589269",
            "af4fbfb5ee5941f29cfb602abf0b88e5",
            "aa40d05df2af4bf5b3fb0430839cd5f9",
            "0621761e241345f68454386b077083a7",
            "772d0a8706064887b810ff55ad422275",
            "15f151a4718744c0b72370c37bf2e0bd",
            "14237d8ceb1e4f3cba7b3dcb9a78051f",
            "f3ec22e5282a4c3abe8939b5360f8110",
            "4bd7348bbed642699ab460b9d6e01015",
            "392941f942c2478081b4096e79c54528",
            "863b1c9b28084e7997b37f31fcfefdc2",
            "48b01917dcb246a099daca139438fd0c",
            "ff1d91481e344f2d97c14c4ecc83210c",
            "3f72db7abc1a4ef0b1f6a4d538732712",
            "f0be8256a20849628aaf32db5e7817eb",
            "e906884e7f9a4724bd52f07448fca14e",
            "679a8e52ba7544d2b4c67c0640d34454",
            "a5dbbb28ab234a5c8cd9a496759c1975",
            "44051b6306134ae1a8f305d3cdb9a7db",
            "3bf0fca5f9964a348954d5366695d7e4",
            "8dc8359716474b68a0beae014afa9b60",
            "84af139d0af94c24925b0e3d0e492140",
            "ed9d8128ffc84def8e3d53db935a747e",
            "c573803216c148f0a1cfb3adb421de87",
            "4784aff1b71a4e3881df7bc51337824b",
            "1f64adb77eac4ee4bd16146ac79d893f",
            "e088f49df0a24e78a2a94152410e65ae",
            "60e8696ccf024d5083d3ed800a85cd1c"
          ]
        },
        "id": "Vs62cIW0au9R",
        "outputId": "b78728cd-9d33-4793-b870-20800543ec44",
        "pycharm": {
          "name": "#%%\n"
        }
      },
      "outputs": [],
      "source": [
        "anomaly_df, scores_df = main(selected_models, fraction=0.05)"
      ]
    },
    {
      "cell_type": "code",
      "execution_count": 40,
      "metadata": {
        "id": "b1RcRWDeau9R",
        "pycharm": {
          "name": "#%%\n"
        }
      },
      "outputs": [],
      "source": [
        "# Save results for future comparison\n",
        "anomaly_df.to_csv(os.path.join(csv_files, 'unsupervised_anomaly_pred.csv'))\n",
        "scores_df.to_csv(os.path.join(csv_files, 'unsupervised_scores_pred.csv'))"
      ]
    },
    {
      "cell_type": "markdown",
      "metadata": {
        "id": "El_FCioSau9S",
        "pycharm": {
          "name": "#%% md\n"
        }
      },
      "source": [
        "<!-- ## Visualize models results -->"
      ]
    },
    {
      "cell_type": "markdown",
      "metadata": {
        "id": "xh66ihzkau9S",
        "pycharm": {
          "name": "#%% md\n"
        }
      },
      "source": [
        "<!-- \n",
        "All models detected anomalies only at the end of the test on avg_df2 dataset. It is not apparent\n",
        "which model detectes earliest an anomalous signal.\n",
        "\n",
        "These models detected anomalies mainly atthe begining of the test and at the end.\n",
        "\n",
        "It can also be observed that anomalies were detected at the begining of the test in all models. KNN\n",
        "model detected anomalies all along the test meanwhile SVM detected anomalies for the first half\n",
        "of the test and at the end it. -->"
      ]
    },
    {
      "cell_type": "code",
      "execution_count": null,
      "metadata": {
        "colab": {
          "base_uri": "https://localhost:8080/"
        },
        "id": "3y6g--e0au9S",
        "outputId": "60554e11-0f97-4b2d-aa12-f31f1c063522",
        "pycharm": {
          "name": "#%%\n"
        }
      },
      "outputs": [],
      "source": [
        "print('Anomalies detected by model', anomaly_df.sum(axis=0), sep='\\n')"
      ]
    },
    {
      "cell_type": "code",
      "execution_count": null,
      "metadata": {
        "colab": {
          "base_uri": "https://localhost:8080/",
          "height": 1000
        },
        "id": "R8rXT_sHau9S",
        "outputId": "2a57f859-af9f-4dce-d027-ccfa646fc68d",
        "pycharm": {
          "name": "#%%\n"
        }
      },
      "outputs": [],
      "source": [
        "scatter_anomalies_plot(anomaly_df, 'anomalies')"
      ]
    },
    {
      "cell_type": "code",
      "execution_count": 43,
      "metadata": {
        "id": "NDDWI5vRau9S",
        "pycharm": {
          "name": "#%%\n"
        }
      },
      "outputs": [],
      "source": [
        "train_anomalies = anomaly_df[(anomaly_df.index >= '2004-02-15') & (anomaly_df.sum(axis=1)>=1)]"
      ]
    },
    {
      "cell_type": "code",
      "execution_count": null,
      "metadata": {
        "colab": {
          "base_uri": "https://localhost:8080/"
        },
        "id": "ia_cx2pAau9S",
        "outputId": "a37b1376-0f37-4efa-b181-ebb09067d3f7",
        "pycharm": {
          "name": "#%%\n"
        }
      },
      "outputs": [],
      "source": [
        "print(f'The first anomaly detected from 2004-02-15 was on {train_anomalies.index[0]}')\n",
        "print(f'Model: {train_anomalies.columns[np.where(train_anomalies.iloc[0].values)[0]][0]}')"
      ]
    },
    {
      "cell_type": "code",
      "execution_count": null,
      "metadata": {
        "colab": {
          "base_uri": "https://localhost:8080/",
          "height": 206
        },
        "id": "KD0EvXE3au9S",
        "outputId": "fbfdcc72-01a6-404a-c469-0c2029b2b335",
        "pycharm": {
          "name": "#%%\n"
        }
      },
      "outputs": [],
      "source": [
        "train_anomalies.head()"
      ]
    },
    {
      "cell_type": "code",
      "execution_count": null,
      "metadata": {
        "colab": {
          "base_uri": "https://localhost:8080/"
        },
        "id": "UG1WNd3Tau9T",
        "outputId": "bf405084-748e-4d12-ca44-8e5a0e97e7bc",
        "pycharm": {
          "name": "#%%\n"
        }
      },
      "outputs": [],
      "source": [
        "print('Anomalies detected by model from 2004-04-15:', train_anomalies.sum(axis=0), sep='\\n')"
      ]
    },
    {
      "cell_type": "code",
      "execution_count": null,
      "metadata": {
        "colab": {
          "base_uri": "https://localhost:8080/"
        },
        "id": "KeuxSqjzau9T",
        "outputId": "f7c611a4-8ae8-4764-a165-d841b147fd01",
        "pycharm": {
          "name": "#%%\n"
        }
      },
      "outputs": [],
      "source": [
        "# Get time stamps at which at leats one models detected an anomaly on each timestamp\n",
        "print(f'One or more models detected an anomaly in {len(train_anomalies)} timestamps')"
      ]
    },
    {
      "cell_type": "code",
      "execution_count": null,
      "metadata": {
        "colab": {
          "base_uri": "https://localhost:8080/",
          "height": 329
        },
        "id": "SwTTWpF6au9T",
        "outputId": "944109c2-1241-420a-afc7-511713652100",
        "pycharm": {
          "name": "#%%\n"
        }
      },
      "outputs": [],
      "source": [
        "avg_df2.loc[train_anomalies.index].plot(xlabel='date', ylabel='average signal', figsize=(8,3))\n",
        "plt.grid(True, lw=0.5)\n",
        "plt.show()"
      ]
    },
    {
      "cell_type": "code",
      "execution_count": null,
      "metadata": {
        "colab": {
          "base_uri": "https://localhost:8080/"
        },
        "id": "u5Bg8J9fau9T",
        "outputId": "e192086d-df42-47bd-aa85-2a8ab8f60bbc",
        "pycharm": {
          "name": "#%%\n"
        }
      },
      "outputs": [],
      "source": [
        "common_detected_anomaly = train_anomalies[train_anomalies.sum(axis=1) == 6].index\n",
        "print(f'All models detected anomalies in {len(common_detected_anomaly)} common timestamps')"
      ]
    },
    {
      "cell_type": "code",
      "execution_count": null,
      "metadata": {
        "colab": {
          "base_uri": "https://localhost:8080/",
          "height": 295
        },
        "id": "ljh_ye6_au9T",
        "outputId": "b6963881-f334-47c3-fa8e-eb0d51b3fa6c",
        "pycharm": {
          "name": "#%%\n"
        }
      },
      "outputs": [],
      "source": [
        "avg_df2.loc[common_detected_anomaly].plot(xlabel='date', ylabel='average signal', figsize=(8,2.5))\n",
        "plt.grid(True, lw=0.5)\n",
        "plt.show()"
      ]
    },
    {
      "cell_type": "code",
      "execution_count": null,
      "metadata": {
        "colab": {
          "base_uri": "https://localhost:8080/",
          "height": 604
        },
        "id": "G7zpSgufau9T",
        "outputId": "581b96e0-c123-4c38-b09c-6a1cdae231a3",
        "pycharm": {
          "name": "#%%\n"
        }
      },
      "outputs": [],
      "source": [
        "plot_scores_distribution(scores_df, plot_name='train_scores')"
      ]
    },
    {
      "cell_type": "code",
      "execution_count": null,
      "metadata": {
        "colab": {
          "base_uri": "https://localhost:8080/"
        },
        "id": "NWSS1P14au9U",
        "outputId": "65420d43-d80b-44d4-c578-30dc457b892d",
        "pycharm": {
          "name": "#%%\n"
        }
      },
      "outputs": [],
      "source": [
        "models_ = train_anomalies[train_anomalies.sum(axis=1)>1].iloc[0]\n",
        "print('The earliest that a failure could have been detected by more than one model was:')\n",
        "print(f'{models_.iloc[np.where(models_.values ==1)]}')"
      ]
    },
    {
      "cell_type": "code",
      "execution_count": null,
      "metadata": {
        "colab": {
          "base_uri": "https://localhost:8080/"
        },
        "id": "M4ehyFXkau9U",
        "outputId": "fb9989b3-822f-4a78-f24c-d51cef592865",
        "pycharm": {
          "name": "#%%\n"
        }
      },
      "outputs": [],
      "source": [
        "print('The earliest that the failure could have been detected by all models was:')\n",
        "print(f'{common_detected_anomaly[0]}')"
      ]
    },
    {
      "cell_type": "code",
      "execution_count": null,
      "metadata": {
        "colab": {
          "base_uri": "https://localhost:8080/"
        },
        "id": "U0t_KxdCau9U",
        "outputId": "931b8b90-ddbc-4fae-beed-9fd2587a28cf",
        "pycharm": {
          "name": "#%%\n"
        }
      },
      "outputs": [],
      "source": [
        "print(f'Time for preventive maintenace before failure with at least one model detecting an anomaly:')\n",
        "print(train_anomalies.index[-1] - train_anomalies.index[0])\n",
        "print(' ')\n",
        "print(f'Time for preventive maintenace before failure detected by all models:')\n",
        "print(train_anomalies.index[-1] - train_anomalies.nlargest(1, 'svm').index[0])"
      ]
    },
    {
      "cell_type": "markdown",
      "metadata": {
        "id": "yMModCwlau9U",
        "pycharm": {
          "name": "#%% md\n"
        }
      },
      "source": [
        "<!-- It is inconclusive which model performs better at detecting anomalies at early stage. We will further apply cluster metrics and non-paramentric test to compare the performace of the clusters formed. For the training dataset the model that detected anomlies the earliest was:\n",
        "\n",
        "---\n",
        "\n",
        "__Clustering-Based Local Outlier__\n",
        "\n",
        "---\n",
        "Next all models will be tested on the unseen dataset ```avg_df3```. -->"
      ]
    },
    {
      "cell_type": "code",
      "execution_count": null,
      "metadata": {
        "colab": {
          "base_uri": "https://localhost:8080/"
        },
        "id": "dCvwH8nWsari",
        "outputId": "328ca9a8-46c1-4b37-c8ec-285dbf51e550",
        "pycharm": {
          "name": "#%%\n"
        }
      },
      "outputs": [],
      "source": [
        "# Release resources del the daset not used\n",
        "del anomaly_df, train_anomalies, scores_df, common_detected_anomaly\n",
        "gc.collect()"
      ]
    },
    {
      "cell_type": "markdown",
      "metadata": {
        "id": "Xyx8AU77u6AQ",
        "pycharm": {
          "name": "#%% md\n"
        }
      },
      "source": [
        "<!-- ## Prediction on unseen data -->"
      ]
    },
    {
      "cell_type": "code",
      "execution_count": 58,
      "metadata": {
        "id": "ld4sa0h2f9hU",
        "pycharm": {
          "name": "#%%\n"
        }
      },
      "outputs": [],
      "source": [
        "def predict_anomaly(unseen_data=None, anomly_model_list=None, thresh=0.10, plot_3d=False,\n",
        "                    fraction=0.05):\n",
        "\n",
        "    best_models = dict()\n",
        "    scores = dict()\n",
        "    best_models_list = list()\n",
        "\n",
        "    print(f'Unseen data size: {len(unseen_data)}')\n",
        "    print('-'*58)\n",
        "    for m in anomly_model_list:\n",
        "        path_to_pipeline = os.path.join(os.getcwd(), f'{m}_pipeline')\n",
        "        model = load_model(path_to_pipeline)\n",
        "        model.fraction = fraction\n",
        "        predictions = predict_model(model, data=unseen_data)\n",
        "        anomalies = predictions[predictions.Anomaly == 1]\n",
        "        print(f'{m} model detected {len(anomalies)} anomalies in the unseen data')\n",
        "        print('='*58)\n",
        "        if len(anomalies) >= (thresh * len(predictions)):\n",
        "            continue\n",
        "        else:\n",
        "            if plot_3d:\n",
        "                plot_model(model, plot='tsne')\n",
        "            best_models[m] = predictions.Anomaly\n",
        "            scores[m] = predictions.Anomaly_Score\n",
        "            best_models_list.append(m)\n",
        "\n",
        "    df_predictions = pd.DataFrame.from_dict(best_models)\n",
        "    df_scores = pd.DataFrame.from_dict(scores)\n",
        "\n",
        "    return  df_predictions, df_scores, best_models_list\n"
      ]
    },
    {
      "cell_type": "code",
      "execution_count": null,
      "metadata": {
        "colab": {
          "base_uri": "https://localhost:8080/"
        },
        "id": "BTmVEQqHe6XH",
        "outputId": "2a542e2a-d298-4fad-f39b-3d0619364c6a",
        "pycharm": {
          "name": "#%%\n"
        }
      },
      "outputs": [],
      "source": [
        "unseen_preds, unseen_scores, models_list  = predict_anomaly(avg_df3, selected_models)"
      ]
    },
    {
      "cell_type": "code",
      "execution_count": 60,
      "metadata": {
        "id": "Ygvrk6gxB2_Z",
        "pycharm": {
          "name": "#%%\n"
        }
      },
      "outputs": [],
      "source": [
        "unseen_preds.to_csv(os.path.join(csv_files, 'unsupervised_test_anomaly.csv'))\n",
        "unseen_scores.to_csv(os.path.join(csv_files, 'unsupervised_test_scores.csv'))"
      ]
    },
    {
      "cell_type": "code",
      "execution_count": null,
      "metadata": {
        "colab": {
          "base_uri": "https://localhost:8080/"
        },
        "id": "rTZRjRe5wY2I",
        "outputId": "037ced9c-7958-47f6-da28-4ff4e6c0c84c",
        "pycharm": {
          "name": "#%%\n"
        }
      },
      "outputs": [],
      "source": [
        "unseen_preds.sum(axis=0)"
      ]
    },
    {
      "cell_type": "code",
      "execution_count": 62,
      "metadata": {
        "id": "XbGA8M9by-3R",
        "pycharm": {
          "name": "#%%\n"
        }
      },
      "outputs": [],
      "source": [
        "test_anomalies = unseen_preds[unseen_preds.sum(axis=1) >= 1]"
      ]
    },
    {
      "cell_type": "code",
      "execution_count": null,
      "metadata": {
        "colab": {
          "base_uri": "https://localhost:8080/",
          "height": 304
        },
        "id": "Xd-5BBo-igY1",
        "outputId": "bf89d863-0711-4e44-bd5b-001a3cf924cb",
        "pycharm": {
          "name": "#%%\n"
        }
      },
      "outputs": [],
      "source": [
        "plot_scores_distribution(unseen_scores, size=(3, 2), plot_name='test_scores')"
      ]
    },
    {
      "cell_type": "code",
      "execution_count": null,
      "metadata": {
        "colab": {
          "base_uri": "https://localhost:8080/",
          "height": 224
        },
        "id": "g8RDHZ9RH4L8",
        "outputId": "d0b9ac05-61bb-4d74-8220-1240c15c0442",
        "pycharm": {
          "name": "#%%\n"
        }
      },
      "outputs": [],
      "source": [
        "test_anomalies[(test_anomalies.index >= '2004-04-15') & (test_anomalies.sum(axis=1)>=1)][0:5]"
      ]
    },
    {
      "cell_type": "code",
      "execution_count": 65,
      "metadata": {
        "id": "99TG8M5K9yZ6",
        "pycharm": {
          "name": "#%%\n"
        }
      },
      "outputs": [],
      "source": [
        "earliest_tail = test_anomalies[(test_anomalies.sum(axis=1)>=1) & (test_anomalies.index\n",
        "                                                                 >= '2004-04-15')]"
      ]
    },
    {
      "cell_type": "code",
      "execution_count": null,
      "metadata": {
        "colab": {
          "base_uri": "https://localhost:8080/"
        },
        "id": "clbpL5w8NM3O",
        "outputId": "0801123c-ad18-4783-d22c-5d61ee8d91e9",
        "pycharm": {
          "name": "#%%\n"
        }
      },
      "outputs": [],
      "source": [
        "print(f'The earliest that the failure could have been detected was on :')\n",
        "print(f\"{test_anomalies[(test_anomalies.index >= '2004-04-15')].index[0]}\")\n",
        "print(f'Model: {test_anomalies.columns[np.where(test_anomalies.iloc[0].values)[0]][0]}')"
      ]
    },
    {
      "cell_type": "code",
      "execution_count": null,
      "metadata": {
        "colab": {
          "base_uri": "https://localhost:8080/"
        },
        "id": "tBYTmJlYO9ng",
        "outputId": "ea1988b3-94ec-43ca-c3f5-1074438c5ab4",
        "pycharm": {
          "name": "#%%\n"
        }
      },
      "outputs": [],
      "source": [
        "print(f'The earliest that a failure could have been detected by more than one model was:')\n",
        "print(f'{earliest_tail[earliest_tail.sum(axis=1)>1].index[0]}')\n",
        "print(earliest_tail.columns[np.where(earliest_tail[\n",
        "    earliest_tail.sum(axis=1)>1].iloc[0]==1)].values)\n"
      ]
    },
    {
      "cell_type": "code",
      "execution_count": null,
      "metadata": {
        "colab": {
          "base_uri": "https://localhost:8080/"
        },
        "id": "HLh3TTUIRNZ-",
        "outputId": "30b6040c-bc93-4f6a-d6c6-7349749f0e63",
        "pycharm": {
          "name": "#%%\n"
        }
      },
      "outputs": [],
      "source": [
        "print('The earliest the three models could have detected the failure was')\n",
        "print(f'{earliest_tail[earliest_tail.sum(axis=1)==3].index[0]}')"
      ]
    },
    {
      "cell_type": "code",
      "execution_count": null,
      "metadata": {
        "colab": {
          "base_uri": "https://localhost:8080/"
        },
        "id": "Qd84Qjz2STpj",
        "outputId": "0fbeacc5-7c33-4964-c724-785ff35ad62a",
        "pycharm": {
          "name": "#%%\n"
        }
      },
      "outputs": [],
      "source": [
        "time_left = earliest_tail.index[-1] - earliest_tail.index[0]\n",
        "print(f'Time to prevent failure: {time_left}')"
      ]
    },
    {
      "cell_type": "code",
      "execution_count": null,
      "metadata": {
        "colab": {
          "base_uri": "https://localhost:8080/",
          "height": 609
        },
        "id": "J5hsDyoyau9X",
        "outputId": "be298409-ce4a-4dfd-80c7-7c9dbf8d8862",
        "pycharm": {
          "name": "#%%\n"
        }
      },
      "outputs": [],
      "source": [
        "plot_predicted_anomalies(unseen_scores, test_anomalies, plot_name='test_anomaly_prediction')"
      ]
    },
    {
      "cell_type": "markdown",
      "metadata": {
        "id": "6l4-oBMHDTyY",
        "pycharm": {
          "name": "#%% md\n"
        }
      },
      "source": [
        "<!-- **The best performances on the test dataset ```avg_df3``` were:**\n",
        "\n",
        "1.   __iforest__\n",
        "2.   __mcd__\n",
        "3.   __svm__ -->"
      ]
    },
    {
      "cell_type": "code",
      "execution_count": null,
      "metadata": {
        "colab": {
          "base_uri": "https://localhost:8080/"
        },
        "id": "1agNwptfTkPU",
        "outputId": "329aa357-3e70-4c64-be98-a3a28c7e1d20",
        "pycharm": {
          "name": "#%%\n"
        }
      },
      "outputs": [],
      "source": [
        "# del unseen_preds\n",
        "# del test_anomalies\n",
        "# del unseen_scores\n",
        "# del earliest_tail\n",
        "# gc.collect()"
      ]
    },
    {
      "cell_type": "markdown",
      "metadata": {
        "id": "j8mEVbUJu6AR",
        "pycharm": {
          "name": "#%% md\n"
        }
      },
      "source": [
        "<!-- # Multiseries Anomaly Prediction with Artificial Neural Networks -BiLSTM -->"
      ]
    },
    {
      "cell_type": "code",
      "execution_count": null,
      "metadata": {
        "colab": {
          "base_uri": "https://localhost:8080/"
        },
        "id": "ZyPCyy5hu6AR",
        "outputId": "36a1300f-3378-464d-b337-7870da157435",
        "pycharm": {
          "name": "#%%\n"
        }
      },
      "outputs": [],
      "source": [
        "from sklearn.preprocessing import MinMaxScaler\n",
        "from collections import namedtuple\n",
        "import torch\n",
        "from torch import nn, optim\n",
        "import torch.nn.functional as F\n",
        "import torch.utils.data as data\n",
        "torch.manual_seed(1234)"
      ]
    },
    {
      "cell_type": "markdown",
      "metadata": {
        "id": "hmmETfX_igY2",
        "pycharm": {
          "name": "#%% md\n"
        }
      },
      "source": [
        "<!-- Approach to deep learning:\n",
        "\n",
        "* Built configurable Encoder - Decoder Model using PyTorch\n",
        "* Process data - scaling\n",
        "* Built training, evaluation and prediction functions\n",
        "* Build the data loaders for batch processing, seelect, optimizers loss function and hyperparameters\n",
        "* Experimental setup\n",
        "* Train and validate model on avg_df3 dataset\n",
        "* Visualise training metrics\n",
        "* Test model on avg_df2\n",
        "* Visualise tests metrics\n",
        "* Optimize model -->"
      ]
    },
    {
      "cell_type": "markdown",
      "metadata": {
        "id": "CMTISd2GigY2",
        "pycharm": {
          "name": "#%% md\n"
        }
      },
      "source": [
        "<!-- ## Build configurable encoder-Decoder model - BiLSTM -->"
      ]
    },
    {
      "cell_type": "code",
      "execution_count": 72,
      "metadata": {
        "id": "OsFxZv3Nu6Ah",
        "pycharm": {
          "name": "#%%\n"
        }
      },
      "outputs": [],
      "source": [
        "class AnomalyLSTM(nn.Module):\n",
        "\n",
        "    def __init__(self, input_size, hidden_dim=24, num_layers=2, p=0.1):\n",
        "        super(AnomalyLSTM, self).__init__()\n",
        "\n",
        "        self.input_size = input_size\n",
        "        self.hidden_dim = hidden_dim\n",
        "        self.num_layers = num_layers\n",
        "\n",
        "        self.lstm = nn.LSTM(\n",
        "          input_size=self.input_size,\n",
        "          hidden_size=self.hidden_dim,\n",
        "          num_layers=self.num_layers,\n",
        "          bidirectional=True,\n",
        "          batch_first=True)\n",
        "\n",
        "        self.linear1 = nn.Linear(self.hidden_dim * 2, 12)\n",
        "        self.linear2 = nn.Linear(12, self.input_size)\n",
        "        self.dropout = nn.Dropout1d(p)\n",
        "\n",
        "    def forward(self, x):\n",
        "\n",
        "        x= torch.tensor(x, dtype=torch.float32)\n",
        "        lstm_out, hidden = self.lstm(x.view(-1, 1, self.input_size))\n",
        "        out = torch.cat((hidden[0][-2, :, :], hidden[0][-1, :, :]), dim=1)\n",
        "        out = F.relu(self.linear1(out))\n",
        "        out = self.dropout(out)\n",
        "        out = self.linear2(out)\n",
        "\n",
        "        return out\n"
      ]
    },
    {
      "cell_type": "markdown",
      "metadata": {
        "id": "-KjBWoi9igY3",
        "pycharm": {
          "name": "#%% md\n"
        }
      },
      "source": [
        "<!-- ## Process data -->"
      ]
    },
    {
      "cell_type": "code",
      "execution_count": 73,
      "metadata": {
        "id": "GtIYyZmwau9Z",
        "pycharm": {
          "name": "#%%\n"
        }
      },
      "outputs": [],
      "source": [
        "scaler = MinMaxScaler()\n",
        "train_data = torch.tensor(scaler.fit_transform(avg_df2.values), dtype=torch.float32)\n",
        "test_data = torch.tensor(scaler.transform(avg_df3.values), dtype=torch.float32)"
      ]
    },
    {
      "cell_type": "markdown",
      "metadata": {
        "id": "ABrgtexTigY4",
        "pycharm": {
          "name": "#%% md\n"
        }
      },
      "source": [
        "<!-- ## Build training, evaluation and  prediction functions -->"
      ]
    },
    {
      "cell_type": "code",
      "execution_count": 74,
      "metadata": {
        "id": "4FwLU3o3-EXF",
        "pycharm": {
          "name": "#%%\n"
        }
      },
      "outputs": [],
      "source": [
        "def train_one_epoch(**kwargs):\n",
        "    \"\"\"\n",
        "    :param kwargs: hyperparameters dictionary\n",
        "    :return:training los for one epoch\n",
        "    \"\"\"\n",
        "\n",
        "    total_loss = 0\n",
        "    model = kwargs['model'].to(kwargs['device'])\n",
        "    model.train()\n",
        "\n",
        "    for true_seq in kwargs['train_loader']:\n",
        "        kwargs['optimizer'].zero_grad()\n",
        "        true_seq = true_seq.to(device)\n",
        "        pred_seq = model(true_seq)\n",
        "        loss = kwargs['loss_fn'](pred_seq, true_seq)\n",
        "        loss.backward()\n",
        "        kwargs['optimizer'].step()\n",
        "        total_loss += loss.item()\n",
        "\n",
        "    return total_loss / len(kwargs['train_loader'])"
      ]
    },
    {
      "cell_type": "code",
      "execution_count": 75,
      "metadata": {
        "id": "deHSaXi0VbHE",
        "pycharm": {
          "name": "#%%\n"
        }
      },
      "outputs": [],
      "source": [
        "def evaluate(**kwargs):\n",
        "    \"\"\"\n",
        "    :param kwargs: a hyperparameters dictionary\n",
        "    :return: evalution loss\n",
        "    \"\"\"\n",
        "\n",
        "    total_loss = 0\n",
        "    model = kwargs['model'].eval()\n",
        "    with torch.no_grad():\n",
        "        for true_seq in kwargs['eval_loader']:\n",
        "            true_seq = true_seq.to(kwargs['device'])\n",
        "            pred_seq = model(true_seq)\n",
        "            loss = kwargs['loss_fn'](pred_seq, true_seq)\n",
        "            total_loss += loss.item()\n",
        "\n",
        "    return total_loss / len(kwargs['eval_loader'])"
      ]
    },
    {
      "cell_type": "code",
      "execution_count": 76,
      "metadata": {
        "id": "IMXxjlwfk7T5",
        "pycharm": {
          "name": "#%%\n"
        }
      },
      "outputs": [],
      "source": [
        "def time_minutes(s):\n",
        "    \"\"\"\n",
        "    :param s:  time in seconds\n",
        "    :return: time in hh:mm:ss format\n",
        "    \"\"\"\n",
        "    return time.strftime('%H:%M:%S', time.gmtime(s))"
      ]
    },
    {
      "cell_type": "code",
      "execution_count": 77,
      "metadata": {
        "id": "HWAPjv1o97vU",
        "pycharm": {
          "name": "#%%\n"
        }
      },
      "outputs": [],
      "source": [
        "def train_lstm(**kwargs):\n",
        "    \"\"\"\n",
        "    :param kwargs: a hyperparameters dictionary\n",
        "    :return: namedtuple - statistics\n",
        "    \"\"\"\n",
        "\n",
        "    Stats = namedtuple('Stats', ['train_loss'])\n",
        "    train_loss_log = np.zeros(kwargs['epochs'])\n",
        "    best_loss = np.inf\n",
        "\n",
        "    epoch_start_time = time.time()\n",
        "    print('........Training Starting.......')\n",
        "    for epoch in tqdm(range(kwargs['epochs'])):\n",
        "        train_loss = train_one_epoch(**kwargs)\n",
        "        train_loss_log[epoch] = train_loss\n",
        "        if train_loss < best_loss:\n",
        "            best_loss = train_loss\n",
        "            torch.save({'epoch': epoch + 1, 'model': kwargs['model'].state_dict(),\n",
        "                'optim': kwargs['optimizer'].state_dict()},\n",
        "                os.path.join(kwargs['params'], f\"best_exp_{kwargs['exp']}.pt\"))\n",
        "\n",
        "        if (epoch + 1) % kwargs['logging'] == 0:\n",
        "            print(' ')\n",
        "            print('Epoch %d: | train loss: %.4f' % (epoch + 1, train_loss))\n",
        "\n",
        "    total_time = time.time() - epoch_start_time\n",
        "    print('Training time {}'.format(time_minutes(total_time)))\n",
        "    stats = Stats(train_loss=train_loss_log)\n",
        "\n",
        "    return stats"
      ]
    },
    {
      "cell_type": "code",
      "execution_count": 78,
      "metadata": {
        "id": "OnEG70Imu6Ai",
        "pycharm": {
          "name": "#%%\n"
        }
      },
      "outputs": [],
      "source": [
        "def predict(model, data_loader, loss_fn=None):\n",
        "\n",
        "    preds_log, loss_log = [], []\n",
        "    with torch.no_grad():\n",
        "        model = model.eval()\n",
        "        for seqs_batch in data_loader:\n",
        "            for seq in seqs_batch:\n",
        "                seq = seq.to(device)\n",
        "                seq_pred = model(seq)\n",
        "                loss = loss_fn(seq_pred, seq)\n",
        "                preds_log.append(seq_pred.cpu().numpy().flatten())\n",
        "                loss_log.append(loss.item())\n",
        "    return preds_log, loss_log"
      ]
    },
    {
      "cell_type": "code",
      "execution_count": 79,
      "metadata": {
        "id": "Qfg5QdEnigY5",
        "pycharm": {
          "name": "#%%\n"
        }
      },
      "outputs": [],
      "source": [
        "exps =[i for i in range(1, 5)]\n",
        "network = ['bilstm'] * 4\n",
        "exp_optim = sorted(['adam', 'adamw'] * 2)\n",
        "exp_loss = ['mae_loss', 'huber_loss'] * 2\n",
        "\n",
        "exp_setup = pd.DataFrame({'Exp':exps, 'Model':network, 'Loss': exp_loss, 'Optim':exp_optim },\n",
        "                         index=exps)\n",
        "exp_setup.set_index('Exp', drop=True, inplace=True)"
      ]
    },
    {
      "cell_type": "markdown",
      "metadata": {
        "id": "qzxpGeVOau9a",
        "pycharm": {
          "name": "#%% md\n"
        }
      },
      "source": [
        "<!-- | Exp | Model  | Loss        | Optim |\n",
        "|-----|--------|-------------|-------|\n",
        "| 1   | bilstm | mae\\_loss   | adam  |\n",
        "| 2   | bilstm | huber\\_loss | adam  |\n",
        "| 3   | bilstm | mae\\_loss   | adamw |\n",
        "| 4   | bilstm | huber\\_loss | adamw | -->"
      ]
    },
    {
      "cell_type": "markdown",
      "metadata": {
        "id": "-0aBvdC7igY6",
        "pycharm": {
          "name": "#%% md\n"
        }
      },
      "source": [
        "<!-- ## Hyperparameter selection and training -->"
      ]
    },
    {
      "cell_type": "code",
      "execution_count": null,
      "metadata": {
        "colab": {
          "base_uri": "https://localhost:8080/"
        },
        "id": "AaopeEeEu6Ai",
        "outputId": "ee77d378-c078-4396-c72c-fb380d7a5e98",
        "pycharm": {
          "name": "#%%\n"
        }
      },
      "outputs": [],
      "source": [
        "batch = 32\n",
        "device = torch.device('cuda' if torch.cuda.is_available() else 'cpu')\n",
        "bilstm_model = AnomalyLSTM(input_size=4, hidden_dim=32, num_layers=1, p=0.1).to(device)\n",
        "print(bilstm_model)\n",
        "learning_rate = 0.0002\n",
        "mae_loss = nn.L1Loss('mean')\n",
        "huber_loss = nn.SmoothL1Loss('mean')\n",
        "adam_optim = optim.Adam(bilstm_model.parameters(), lr=learning_rate)\n",
        "adamw_optim = optim.AdamW(bilstm_model.parameters(), lr=learning_rate)\n",
        "train_loader = data.DataLoader(train_data, shuffle=False, batch_size=batch)\n",
        "test_loader = data.DataLoader(test_data, shuffle=False, batch_size=batch)"
      ]
    },
    {
      "cell_type": "code",
      "execution_count": 81,
      "metadata": {
        "id": "jmjuIRdX6ewv"
      },
      "outputs": [],
      "source": [
        "exp = 4\n",
        "weights_dir = os.path.join(os.getcwd(), 'params')\n",
        "os.makedirs(weights_dir, exist_ok=True)\n",
        "\n",
        "config = {'exp': exp, 'epochs': 50,  'model':bilstm_model, 'loss_fn':mae_loss,\n",
        "          'optimizer': adamw_optim, 'train_loader': train_loader,'eval_loader': test_loader,\n",
        "          'device': device, 'logging': 10, 'params' : weights_dir}\n",
        "if exp in [1, 2]:\n",
        "    config['optimizer'] = adam_optim\n",
        "if exp in [2, 4]:\n",
        "    config['loss_fn'] = huber_loss\n",
        "elif exp > 4:\n",
        "    assert exp > 4, 'Experiment not in the experimental setup'"
      ]
    },
    {
      "cell_type": "code",
      "execution_count": null,
      "metadata": {},
      "outputs": [],
      "source": [
        "# Run experiments\n",
        "print(f'Running experiment {exp}', f'{exp_setup.loc[exp]}', sep='\\n')\n",
        "training_metrics = train_lstm(**config)"
      ]
    },
    {
      "cell_type": "markdown",
      "metadata": {
        "id": "T7-HeNFIigY6",
        "pycharm": {
          "name": "#%% md\n"
        }
      },
      "source": [
        "  <!-- ## Metrics visualization -->"
      ]
    },
    {
      "cell_type": "code",
      "execution_count": null,
      "metadata": {
        "colab": {
          "base_uri": "https://localhost:8080/",
          "height": 326
        },
        "id": "8Zug1lvki8_-",
        "outputId": "47ff9d4e-8fc7-49e8-fa42-1c880576a8a5"
      },
      "outputs": [],
      "source": [
        "plot_loss(training_metrics, f'bilstm_exp{exp}', figs_dir=plots_dir)"
      ]
    },
    {
      "cell_type": "code",
      "execution_count": null,
      "metadata": {
        "colab": {
          "base_uri": "https://localhost:8080/"
        },
        "id": "IggBsIWPiSWA",
        "outputId": "273c3980-69c8-4147-c7fe-1d1641e5ea2e",
        "pycharm": {
          "name": "#%%\n"
        }
      },
      "outputs": [],
      "source": [
        "# del training_metrics\n",
        "# gc.collect()"
      ]
    },
    {
      "cell_type": "code",
      "execution_count": 84,
      "metadata": {
        "id": "i0kplyktigY7",
        "pycharm": {
          "name": "#%%\n"
        }
      },
      "outputs": [],
      "source": [
        "best_params = torch.load(os.path.join(weights_dir, f'best_exp_{exp}.pt'))\n",
        "bilstm_model.load_state_dict(best_params['model'], strict=False)\n",
        "train_preds, train_losses = predict(bilstm_model, train_loader, config['loss_fn'])"
      ]
    },
    {
      "cell_type": "markdown",
      "metadata": {
        "id": "XcN3l1ftTff_",
        "pycharm": {
          "name": "#%% md\n"
        }
      },
      "source": [
        "<!-- ## Scores and threshold Visualization -->"
      ]
    },
    {
      "cell_type": "code",
      "execution_count": null,
      "metadata": {
        "colab": {
          "base_uri": "https://localhost:8080/",
          "height": 360
        },
        "id": "rZqRZrjqigY7",
        "outputId": "487cea18-d421-463c-a8ce-d018980229bd",
        "pycharm": {
          "name": "#%%\n"
        }
      },
      "outputs": [],
      "source": [
        "sns.set(rc={'figure.figsize': (4, 3)})\n",
        "sns.set_style('whitegrid')\n",
        "sns.distplot(train_losses, bins=30, kde=True)\n",
        "plt.grid(color ='k', ls= '--', lw=0.5)\n",
        "plt.xlabel('Loss')\n",
        "plt.title('Training dataset avg_df2')\n",
        "plt.xticks(rotation=90)\n",
        "save_plot(plots_dir, plot_name=f'train_dist_exp{exp}')\n",
        "plt.show()"
      ]
    },
    {
      "cell_type": "code",
      "execution_count": null,
      "metadata": {
        "colab": {
          "base_uri": "https://localhost:8080/"
        },
        "id": "KRbHJnAmau9c",
        "outputId": "188d7dac-7f60-4fb2-99e5-2b271272d80e",
        "pycharm": {
          "name": "#%%\n"
        }
      },
      "outputs": [],
      "source": [
        "np.percentile(train_losses, [0.85, 90, 91, 95, 97, 98, 99])"
      ]
    },
    {
      "cell_type": "code",
      "execution_count": 87,
      "metadata": {
        "id": "B1_D1tJwau9c",
        "pycharm": {
          "name": "#%%\n"
        }
      },
      "outputs": [],
      "source": [
        "threshold = np.round(np.percentile(train_losses, 90), 4)"
      ]
    },
    {
      "cell_type": "code",
      "execution_count": 88,
      "metadata": {
        "id": "96y29v0zau9c",
        "pycharm": {
          "name": "#%%\n"
        }
      },
      "outputs": [],
      "source": [
        "train_scores = pd.DataFrame(index=avg_df2.index)\n",
        "loss_column = 'huber_loss' if config['loss_fn'] == huber_loss else 'mae_loss'\n",
        "train_scores[loss_column] = train_losses\n",
        "train_scores['Anomaly'] =  [0 if l < threshold else 1 for l in train_losses]\n",
        "train_scores.to_csv(os.path.join(csv_files, f'bilstm_train_exp{exp}.csv'))"
      ]
    },
    {
      "cell_type": "code",
      "execution_count": 89,
      "metadata": {
        "id": "p_xSazBIKyZh",
        "pycharm": {
          "name": "#%%\n"
        }
      },
      "outputs": [],
      "source": [
        "threshold_ = np.array([threshold]*len(train_scores))"
      ]
    },
    {
      "cell_type": "code",
      "execution_count": null,
      "metadata": {
        "colab": {
          "base_uri": "https://localhost:8080/",
          "height": 344
        },
        "id": "LUK99XRS_VDG",
        "outputId": "8277d7cd-8d89-432e-d8f2-32322568a453",
        "pycharm": {
          "name": "#%%\n"
        }
      },
      "outputs": [],
      "source": [
        "plot_anomaly_threshold(train_scores, plot_name=f'bilstm_thresh_exp{exp}', thresh=threshold_)"
      ]
    },
    {
      "cell_type": "code",
      "execution_count": null,
      "metadata": {
        "colab": {
          "base_uri": "https://localhost:8080/",
          "height": 263
        },
        "id": "xFViSaZpTNq0",
        "outputId": "155682a6-3837-43aa-938b-caa62e1d7e91",
        "pycharm": {
          "name": "#%%\n"
        }
      },
      "outputs": [],
      "source": [
        "bilstm_predicted_anomalies(train_scores, size=(10, 2.5), plot_name=f'bilstm_val_pred_anom_exp{exp}')"
      ]
    },
    {
      "cell_type": "code",
      "execution_count": 92,
      "metadata": {
        "id": "5bUgAExqaWDn"
      },
      "outputs": [],
      "source": [
        "preds_array = scaler.inverse_transform(np.array(train_preds))"
      ]
    },
    {
      "cell_type": "code",
      "execution_count": null,
      "metadata": {
        "colab": {
          "base_uri": "https://localhost:8080/",
          "height": 908
        },
        "id": "jPs7oZswjz_l",
        "outputId": "9788c4fe-c57b-41b5-ac5c-5609f6fe066d",
        "pycharm": {
          "name": "#%%\n"
        }
      },
      "outputs": [],
      "source": [
        "plot_reconstruction(avg_df2, preds_array, plot_name=f'bilstm_rec_exp{exp}')"
      ]
    },
    {
      "cell_type": "code",
      "execution_count": null,
      "metadata": {
        "colab": {
          "base_uri": "https://localhost:8080/"
        },
        "id": "8WcTLvP_UDJl",
        "outputId": "f76f3d45-ff30-4898-97ca-1bd2ca0403c5",
        "pycharm": {
          "name": "#%%\n"
        }
      },
      "outputs": [],
      "source": [
        "# del train_preds,\n",
        "# del train_losses\n",
        "# del train_scores\n",
        "# gc.collect()"
      ]
    },
    {
      "cell_type": "markdown",
      "metadata": {
        "id": "G5OqkHS1igY7",
        "pycharm": {
          "name": "#%% md\n"
        }
      },
      "source": [
        "<!-- ## Predict on unseen data -->"
      ]
    },
    {
      "cell_type": "code",
      "execution_count": null,
      "metadata": {
        "colab": {
          "base_uri": "https://localhost:8080/"
        },
        "id": "jCZAeHU8j__f",
        "outputId": "580954bc-4407-4eb2-b15e-70712ba96e57",
        "pycharm": {
          "name": "#%%\n"
        }
      },
      "outputs": [],
      "source": [
        "bilstm_model.load_state_dict(best_params['model'], strict=False)"
      ]
    },
    {
      "cell_type": "code",
      "execution_count": 95,
      "metadata": {
        "id": "YdQ0j0VUigY7",
        "pycharm": {
          "name": "#%%\n"
        }
      },
      "outputs": [],
      "source": [
        "test_preds, test_losses = predict(bilstm_model, test_loader, config['loss_fn'])"
      ]
    },
    {
      "cell_type": "code",
      "execution_count": null,
      "metadata": {
        "colab": {
          "base_uri": "https://localhost:8080/",
          "height": 342
        },
        "id": "uw3CdYIDkZI2",
        "outputId": "827f2aa4-f095-4a50-af2d-fe425cbfa14d"
      },
      "outputs": [],
      "source": [
        "sns.set(rc={'figure.figsize': (4, 3)})\n",
        "sns.set_style('whitegrid')\n",
        "sns.distplot(avg_df3.values, bins=30, kde=True)\n",
        "plt.grid(color ='k', ls= '--', lw=0.5)\n",
        "plt.xlabel('Avg signal')\n",
        "plt.title('Dataset distribution avg_df3')\n",
        "plt.show()"
      ]
    },
    {
      "cell_type": "code",
      "execution_count": null,
      "metadata": {
        "colab": {
          "base_uri": "https://localhost:8080/"
        },
        "id": "-YhMKyyoka2r",
        "outputId": "b2a5e44a-b691-4c42-a33a-50e7cf3dc654"
      },
      "outputs": [],
      "source": [
        "np.quantile(avg_df3.values, [0.8, 0.85, 0.90, 0.95, 0.97, 0.98, 0.99])"
      ]
    },
    {
      "cell_type": "code",
      "execution_count": null,
      "metadata": {
        "colab": {
          "base_uri": "https://localhost:8080/",
          "height": 342
        },
        "id": "pe_vI5qXwK2h",
        "outputId": "77285aac-c29e-4e1c-c75f-06cf525ff171",
        "pycharm": {
          "name": "#%%\n"
        },
        "scrolled": true
      },
      "outputs": [],
      "source": [
        "plt.figsize = (5,5)\n",
        "sns.set_style('whitegrid', {\"grid.color\": 'k', 'grid.linestyle': '--'})\n",
        "sns.distplot(test_losses, bins=30, kde=True)\n",
        "plt.title('Test dataset avg_df3')\n",
        "plt.xlabel('Loss')\n",
        "plt.grid(lw=0.5, c='k')\n",
        "plt.show()"
      ]
    },
    {
      "cell_type": "code",
      "execution_count": null,
      "metadata": {
        "colab": {
          "base_uri": "https://localhost:8080/"
        },
        "id": "lipbP43mau9h",
        "outputId": "712fda90-df36-4af7-d0ed-70b7ab3b3029",
        "pycharm": {
          "name": "#%%\n"
        }
      },
      "outputs": [],
      "source": [
        "np.percentile(test_losses, [90, 95, 97, 98, 99])"
      ]
    },
    {
      "cell_type": "code",
      "execution_count": null,
      "metadata": {
        "colab": {
          "base_uri": "https://localhost:8080/"
        },
        "id": "CLsRGQLbau9h",
        "outputId": "27d0dad3-4f13-41ec-d9f7-a7a9f82ff08c",
        "pycharm": {
          "name": "#%%\n"
        }
      },
      "outputs": [],
      "source": [
        "test_thresh = np.round(np.percentile(test_losses, 97), 4)\n",
        "test_thresh"
      ]
    },
    {
      "cell_type": "code",
      "execution_count": 101,
      "metadata": {
        "id": "s5jLMTSbTxri",
        "pycharm": {
          "name": "#%%\n"
        }
      },
      "outputs": [],
      "source": [
        "threshold_ = np.array([test_thresh]*len(test_losses))"
      ]
    },
    {
      "cell_type": "code",
      "execution_count": 102,
      "metadata": {
        "id": "pitk1xrUigY8",
        "pycharm": {
          "name": "#%%\n"
        }
      },
      "outputs": [],
      "source": [
        "test_scores = pd.DataFrame(index=avg_df3.index)\n",
        "test_scores[loss_column] = test_losses\n",
        "test_scores['Anomaly'] =  [0 if l < test_thresh else 1 for l in test_losses]\n",
        "test_scores.to_csv(os.path.join(csv_files, f'bilstm_test_exp{exp}.csv'))"
      ]
    },
    {
      "cell_type": "code",
      "execution_count": null,
      "metadata": {
        "colab": {
          "base_uri": "https://localhost:8080/",
          "height": 339
        },
        "id": "u441tAXkVYEz",
        "outputId": "e516c5f2-88dd-4006-9d98-7b761306554c",
        "pycharm": {
          "name": "#%%\n"
        }
      },
      "outputs": [],
      "source": [
        "plot_anomaly_threshold(test_scores, thresh=threshold_, plot_name=f'test_thres_bilstm_exp_{exp}')"
      ]
    },
    {
      "cell_type": "code",
      "execution_count": null,
      "metadata": {
        "colab": {
          "base_uri": "https://localhost:8080/",
          "height": 257
        },
        "id": "RvcS4qMHZnmw",
        "outputId": "12bffdc4-3aea-49ac-8c32-fbf9c41f57af",
        "pycharm": {
          "name": "#%%\n"
        }
      },
      "outputs": [],
      "source": [
        "# Loss scores with anomalies\n",
        "bilstm_predicted_anomalies(test_scores, size=(10, 2.5),\n",
        "                         plot_name=f'test_bilstm_anom_exp{exp}')"
      ]
    },
    {
      "cell_type": "code",
      "execution_count": 105,
      "metadata": {
        "id": "scKsy5clesw5",
        "pycharm": {
          "name": "#%%\n"
        }
      },
      "outputs": [],
      "source": [
        "# Revert scaling for reconstuction\n",
        "test_preds_array = scaler.inverse_transform(np.array(test_preds))"
      ]
    },
    {
      "cell_type": "code",
      "execution_count": null,
      "metadata": {
        "colab": {
          "base_uri": "https://localhost:8080/",
          "height": 908
        },
        "id": "DFKZSxZLigY8",
        "outputId": "c1caca2e-f264-4e2f-8e8c-ab57132dec14",
        "pycharm": {
          "name": "#%%\n"
        }
      },
      "outputs": [],
      "source": [
        "plot_reconstruction(avg_df3, test_preds_array, f'bilstm_test_preds_exp{exp}')"
      ]
    },
    {
      "cell_type": "code",
      "execution_count": null,
      "metadata": {
        "colab": {
          "base_uri": "https://localhost:8080/"
        },
        "id": "ATU88xZTau9i",
        "outputId": "a34c91d7-ffdc-420c-971e-546978691741",
        "pycharm": {
          "name": "#%%\n"
        }
      },
      "outputs": [],
      "source": [
        "# del threshold_, test_preds, test_losses, test_scores, test_preds_array\n",
        "# gc.collect()"
      ]
    },
    {
      "cell_type": "markdown",
      "metadata": {
        "id": "09swpEf1au9j",
        "pycharm": {
          "name": "#%% md\n"
        }
      },
      "source": [
        "<!-- ## BiLSTM Results -->"
      ]
    },
    {
      "cell_type": "markdown",
      "metadata": {
        "collapsed": false,
        "id": "vwV43YMKau9j",
        "pycharm": {
          "name": "#%% md\n"
        }
      },
      "source": [
        "<!-- ### Train dataset -->"
      ]
    },
    {
      "cell_type": "code",
      "execution_count": 107,
      "metadata": {
        "id": "MwV8yDMOau9j",
        "pycharm": {
          "name": "#%%\n"
        }
      },
      "outputs": [],
      "source": [
        "from models_comparison import merge_csv_files"
      ]
    },
    {
      "cell_type": "code",
      "execution_count": null,
      "metadata": {
        "colab": {
          "base_uri": "https://localhost:8080/"
        },
        "id": "ygbB1Vm5au9j",
        "outputId": "aa8a9d1d-7bdc-419f-858d-a3d2ce4aa079",
        "pycharm": {
          "name": "#%%\n"
        }
      },
      "outputs": [],
      "source": [
        "train_lstm_anomalies = [d for d in dir_list(csv_files) if 'bilstm_train' in d]\n",
        "print(train_lstm_anomalies)"
      ]
    },
    {
      "cell_type": "code",
      "execution_count": 109,
      "metadata": {
        "id": "mY62Dc8Rau9j",
        "pycharm": {
          "name": "#%%\n"
        }
      },
      "outputs": [],
      "source": [
        "bilstm_train_anomalies = merge_csv_files(avg_df2.index, train_lstm_anomalies, path=csv_files)"
      ]
    },
    {
      "cell_type": "code",
      "execution_count": null,
      "metadata": {
        "colab": {
          "base_uri": "https://localhost:8080/"
        },
        "id": "IWCPXEpfau9j",
        "outputId": "927f76f2-b168-4591-d57a-714074dba0db",
        "pycharm": {
          "name": "#%%\n"
        }
      },
      "outputs": [],
      "source": [
        "print('Anomalies detected by model')\n",
        "print(bilstm_train_anomalies.sum(axis=0))"
      ]
    },
    {
      "cell_type": "code",
      "execution_count": 111,
      "metadata": {
        "id": "6p_WFZTaau9k",
        "pycharm": {
          "name": "#%%\n"
        }
      },
      "outputs": [],
      "source": [
        "# Filter the timestamps where one or more models detected an anomaly\n",
        "train_earliest_detect = bilstm_train_anomalies[bilstm_train_anomalies.sum(axis=1) >=1]\n",
        "\n",
        "# Filter the timestamps where two or more models detected an anomaly\n",
        "anomalies_two_models = train_earliest_detect[train_earliest_detect.sum(axis=1) > 1]\n",
        "\n",
        "# Filter the timestamps where all models detected an anomaly on the training dataset\n",
        "common_training_anomalies = train_earliest_detect[train_earliest_detect.sum(axis=1) ==\n",
        "                                                len(train_earliest_detect.columns)].index"
      ]
    },
    {
      "cell_type": "code",
      "execution_count": null,
      "metadata": {},
      "outputs": [],
      "source": [
        "train_earliest_detect"
      ]
    },
    {
      "cell_type": "code",
      "execution_count": null,
      "metadata": {
        "colab": {
          "base_uri": "https://localhost:8080/"
        },
        "id": "5qHmKiAyau9k",
        "outputId": "a30fc143-ee56-44c6-a1d4-b2c864e8b21a",
        "pycharm": {
          "name": "#%%\n"
        }
      },
      "outputs": [],
      "source": [
        "print('='*102)\n",
        "print('The model that first detected an anomaly on the train dataset was:')\n",
        "print(f'{train_earliest_detect.head().sum(axis=0).nlargest(n=1).keys()[0]} starting'\n",
        "      f' from {train_earliest_detect.index[0]}')\n",
        "print(' ')\n",
        "print('='*102)\n",
        "\n",
        "print(f'Two or more models detected anomalies from {anomalies_two_models.index[0]}')\n",
        "print(f'Model: {anomalies_two_models.columns[np.where(anomalies_two_models.iloc[0])].values}')\n",
        "print(' ')\n",
        "print('='*102)\n",
        "print(f'All models detected anomalies in the train dataset'\n",
        "      f' on {len(common_training_anomalies)} timestamps starting from {common_training_anomalies[0]}')\n",
        "print('')\n",
        "print('='*102)"
      ]
    },
    {
      "cell_type": "code",
      "execution_count": null,
      "metadata": {
        "colab": {
          "base_uri": "https://localhost:8080/"
        },
        "id": "d0H_VpN-au9k",
        "outputId": "de010845-0af3-4b15-f01a-b4d5a062a7bc",
        "pycharm": {
          "name": "#%%\n"
        }
      },
      "outputs": [],
      "source": [
        "print('='*98)\n",
        "print('The earliest that an anomaly could have been detected by one or more models before failure was:')\n",
        "print(f'{bilstm_train_anomalies.index[-1] - train_earliest_detect.index[0]}')\n",
        "print(' ')\n",
        "print('='*102)\n",
        "print('The earliest that an anomaly could have been detected by',\n",
        "        'two or more models before failure was:')\n",
        "print(f'{bilstm_train_anomalies.index[-1] - bilstm_train_anomalies[bilstm_train_anomalies.sum(axis=1) > 1].index[0]}')\n",
        "print(' ')\n",
        "print('='*102)\n",
        "print(f'The earliest that an anomaly could have been detected by all models before failure'\n",
        "      f' was: {bilstm_train_anomalies.index[-1] - common_training_anomalies[0]}')\n",
        "print(' ')\n",
        "print('='*102)"
      ]
    },
    {
      "cell_type": "markdown",
      "metadata": {
        "id": "TkkQufHcau9k",
        "pycharm": {
          "name": "#%% md\n"
        }
      },
      "source": [
        "<!-- ### Test dataset -->"
      ]
    },
    {
      "cell_type": "code",
      "execution_count": null,
      "metadata": {},
      "outputs": [],
      "source": [
        "dir_list(csv_files)"
      ]
    },
    {
      "cell_type": "code",
      "execution_count": null,
      "metadata": {
        "colab": {
          "base_uri": "https://localhost:8080/"
        },
        "id": "dug6lrF7au9k",
        "outputId": "b4afb516-5675-4fde-8e34-9f9f3b9912f0",
        "pycharm": {
          "name": "#%%\n"
        }
      },
      "outputs": [],
      "source": [
        "test_lstm_anomalies = [d for d in dir_list(csv_files) if 'bilstm_test' in d]\n",
        "print(train_lstm_anomalies)"
      ]
    },
    {
      "cell_type": "code",
      "execution_count": 152,
      "metadata": {
        "id": "9s2wk9kGau9k",
        "pycharm": {
          "name": "#%%\n"
        }
      },
      "outputs": [],
      "source": [
        "bilstm_test_anomalies = merge_csv_files(avg_df3.index, test_lstm_anomalies, path=csv_files)"
      ]
    },
    {
      "cell_type": "code",
      "execution_count": null,
      "metadata": {
        "colab": {
          "base_uri": "https://localhost:8080/"
        },
        "id": "G9Uu1_fnau9l",
        "outputId": "d6aa077c-101e-44e6-87fb-6781cae57ea8",
        "pycharm": {
          "name": "#%%\n"
        }
      },
      "outputs": [],
      "source": [
        "print('Anomalies detected by model:')\n",
        "bilstm_test_anomalies.sum(axis=0)"
      ]
    },
    {
      "cell_type": "code",
      "execution_count": 154,
      "metadata": {
        "id": "vmGJRFFyau9l",
        "pycharm": {
          "name": "#%%\n"
        }
      },
      "outputs": [],
      "source": [
        "detect_test_anomalies = bilstm_test_anomalies[(bilstm_test_anomalies.sum(axis=1)>=1)]"
      ]
    },
    {
      "cell_type": "code",
      "execution_count": null,
      "metadata": {
        "colab": {
          "base_uri": "https://localhost:8080/"
        },
        "id": "IOU98oK4au9l",
        "outputId": "e8c0caec-35e7-4cf9-be44-317519d4a34c",
        "pycharm": {
          "name": "#%%\n"
        }
      },
      "outputs": [],
      "source": [
        "print('Anomalies detected by model before 2004-04-15')\n",
        "detect_test_anomalies[detect_test_anomalies.index < '2004-04-15'].sum(axis=0)"
      ]
    },
    {
      "cell_type": "code",
      "execution_count": null,
      "metadata": {
        "colab": {
          "base_uri": "https://localhost:8080/"
        },
        "id": "m7a12z-3au9l",
        "outputId": "409d10a9-9ce8-4ff1-e452-ef98e89adea4",
        "pycharm": {
          "name": "#%%\n"
        }
      },
      "outputs": [],
      "source": [
        "print('Anomalies detected by model from 2004-04-15')\n",
        "detect_test_anomalies[detect_test_anomalies.index >= '2004-04-15'].sum(axis=0)"
      ]
    },
    {
      "cell_type": "code",
      "execution_count": null,
      "metadata": {
        "colab": {
          "base_uri": "https://localhost:8080/"
        },
        "id": "esjvG9FDau9l",
        "outputId": "13d7dab4-86ad-4dca-d007-0ccee691e435",
        "pycharm": {
          "name": "#%%\n"
        }
      },
      "outputs": [],
      "source": [
        "test_tail_anomalies = detect_test_anomalies[detect_test_anomalies.index >= '2004-04-15']\n",
        "print('Models that first detected an anomaly from 2004-04-15 :')\n",
        "print(test_tail_anomalies.columns[np.where(test_tail_anomalies.iloc[0]==1)].values)\n",
        "print(f\"Timestamp: {test_tail_anomalies.index[0]}\")"
      ]
    },
    {
      "cell_type": "code",
      "execution_count": null,
      "metadata": {
        "colab": {
          "base_uri": "https://localhost:8080/"
        },
        "id": "JqQudF6U3CbG",
        "outputId": "fb186906-066b-45ab-9e09-1fd542a3602c"
      },
      "outputs": [],
      "source": [
        "print('Lead time before breakdown from the fisrt detection:')\n",
        "test_tail_anomalies.index[-1] - test_tail_anomalies.index[0]"
      ]
    },
    {
      "cell_type": "code",
      "execution_count": null,
      "metadata": {
        "colab": {
          "base_uri": "https://localhost:8080/"
        },
        "id": "uqHF6YlB6F44",
        "outputId": "79656b06-38c6-442c-9171-e45b54f06562"
      },
      "outputs": [],
      "source": [
        "print('Lead time before breakdown detected by at leats two models:')\n",
        "test_tail_anomalies.index[-1] - test_tail_anomalies[test_tail_anomalies.sum(axis=1)>1].index[0]"
      ]
    },
    {
      "cell_type": "code",
      "execution_count": null,
      "metadata": {
        "colab": {
          "base_uri": "https://localhost:8080/"
        },
        "id": "dXAtO1Fuau9l",
        "outputId": "f481450e-279c-4f33-859c-16343c1ba28d",
        "pycharm": {
          "name": "#%%\n"
        }
      },
      "outputs": [],
      "source": [
        "del test_tail_anomalies, detect_test_anomalies\n",
        "gc.collect()"
      ]
    },
    {
      "cell_type": "markdown",
      "metadata": {
        "id": "qyDblZTGhRVF"
      },
      "source": [
        "<!-- \n",
        "\n",
        "## Cluster Metrics\n",
        "\n",
        "\n",
        "In this section, we will utilize three metrics, the silhouette coefficient, Calinski-Harabaz and Davies-Boulding indexes, to assess the cluster quality generated by each unsupervised model.\n",
        "\n",
        "Note: Adapted from scikit-learn\n",
        "https://scikit-learn.org/stable/modules/model_evaluation.html#clustering-metrics\n",
        "\n",
        "\n",
        "1. **Silhouette Score** is the mean Silhouette Coefficient for all clusters, which is calculated using the mean intra-cluster distance and the mean nearest-cluster distance. This score is between -1 and 1; the higher the score, the more well-defined and distinct the clusters are.\n",
        "\n",
        "1. **Calinski-Harabaz Index** is calculated using the between-cluster and within-cluster dispersion to measure the distinctiveness between groups. Like the Silhouette Score, the higher the score, the more well-defined the clusters are. This score has no bound, meaning no ‘acceptable’ or ‘good’ value exists.\n",
        "\n",
        "3. **Davies-Bouldin Index** is the average similarity of each cluster with its most similar cluster. Unlike the previous two metrics, this score measures the similarity of the clusters, meaning that the lower the score, the better the separation between the clusters. Zero is the lowest possible score. Values closer to zero indicate a better partition.The usage of centroid distance limits the distance metric to Euclidean space.\n",
        "\n",
        "The disadvantage of the three metrics is that they generally score higher for convex clusters than other concepts of clusters. Therefore further compare their performance with **non-parametric statistics**. -->"
      ]
    },
    {
      "cell_type": "code",
      "execution_count": 119,
      "metadata": {
        "id": "7NpzLaI4oxA4"
      },
      "outputs": [],
      "source": [
        "from models_comparison import concat_dataframes, friedman_conover_comparison, compare_clusters_metrics"
      ]
    },
    {
      "cell_type": "code",
      "execution_count": 120,
      "metadata": {
        "id": "4QsJVCFQ9ach"
      },
      "outputs": [],
      "source": [
        "from sklearn.metrics import pairwise_distances, silhouette_samples\n",
        "from sklearn import metrics"
      ]
    },
    {
      "cell_type": "code",
      "execution_count": 121,
      "metadata": {
        "id": "oJb7oLzQ9c35"
      },
      "outputs": [],
      "source": [
        "def compare_clusters_metrics(df_raw, df_cluster):\n",
        "    \"\"\"\n",
        "    :param df_raw: raw data dataframe\n",
        "    :param df_cluster: dataframe with cluster labels\n",
        "    :return: data frame with the cluster metrics scores\n",
        "    \"\"\"\n",
        "    model_scores = {}\n",
        "    for col in df_cluster.columns:\n",
        "        sil = metrics.silhouette_score(df_raw, df_cluster[col])\n",
        "        cal_har = metrics.calinski_harabasz_score(df_raw, df_cluster[col])\n",
        "        dav_boul = metrics.davies_bouldin_score(df_raw, df_cluster[col])\n",
        "        model_scores[col] = [sil, cal_har, dav_boul]\n",
        "\n",
        "    cluster_metrics = pd.DataFrame.from_dict(model_scores).T\n",
        "    cluster_metrics.columns = ['silhoutte', 'calinski_harabasz', 'davies_bouldin']\n",
        "\n",
        "    return  cluster_metrics"
      ]
    },
    {
      "cell_type": "markdown",
      "metadata": {
        "id": "m7-dWPuBau9m",
        "pycharm": {
          "name": "#%% md\n"
        }
      },
      "source": [
        "<!-- ### Train dataset -->"
      ]
    },
    {
      "cell_type": "code",
      "execution_count": 122,
      "metadata": {
        "id": "ay3HrKtsau9m",
        "pycharm": {
          "name": "#%%\n"
        }
      },
      "outputs": [],
      "source": [
        "# read pycaret anomalies csv file\n",
        "pc_train_anomalies = read_concat_data(csv_files, 'unsupervised_anomaly_pred.csv')"
      ]
    },
    {
      "cell_type": "code",
      "execution_count": null,
      "metadata": {
        "colab": {
          "base_uri": "https://localhost:8080/"
        },
        "id": "heojCYGZau9m",
        "outputId": "de100207-1bf5-4874-c100-459ef7bde6b0",
        "pycharm": {
          "name": "#%%\n"
        }
      },
      "outputs": [],
      "source": [
        "# Concatenate training results\n",
        "training_anomalies = concat_dataframes([pc_train_anomalies, bilstm_train_anomalies])\n",
        "training_anomalies.to_csv(os.path.join(csv_files, 'training_anomalies.csv'))\n",
        "training_anomalies.sum(axis=0)"
      ]
    },
    {
      "cell_type": "code",
      "execution_count": null,
      "metadata": {
        "colab": {
          "base_uri": "https://localhost:8080/",
          "height": 901
        },
        "id": "NkU7KdlS9oc-",
        "outputId": "b256eed9-4b48-4299-e5e0-b8d637d605b9"
      },
      "outputs": [],
      "source": [
        "train_clusters_scores = compare_clusters_metrics(avg_df2, training_anomalies).round(4)\n",
        "train_clusters_scores"
      ]
    },
    {
      "cell_type": "markdown",
      "metadata": {
        "id": "HVzQuBIWqZHV"
      },
      "source": [
        "<!-- ### __Training metrics resulst__\n",
        "\n",
        "Top Silhoutte scores by model\n",
        "\n",
        "*   Histogram, IForest, MCD\n",
        "\n",
        "Top Calinski-Harabasz indexes by model\n",
        "*   MCD, SVM, Histogram\n",
        "\n",
        "Top Davies-Bouldin indexes\n",
        "\n",
        "*   SVM, MCD, Histogram\n",
        "\n",
        "\n",
        " -->\n"
      ]
    },
    {
      "cell_type": "markdown",
      "metadata": {
        "id": "fhU37bY7uTBi"
      },
      "source": [
        "<!-- ### Test Dataset -->"
      ]
    },
    {
      "cell_type": "code",
      "execution_count": 133,
      "metadata": {
        "id": "SenRiVo0au9n",
        "pycharm": {
          "name": "#%%\n"
        }
      },
      "outputs": [],
      "source": [
        "pc_test_anomalies = read_concat_data(csv_files, 'unsupervised_test_anomaly.csv')\n",
        "test_anomalies = concat_dataframes([pc_test_anomalies, bilstm_test_anomalies])\n",
        "test_anomalies.to_csv(os.path.join(csv_files, 'test_anomalies.csv'))"
      ]
    },
    {
      "cell_type": "code",
      "execution_count": null,
      "metadata": {
        "colab": {
          "base_uri": "https://localhost:8080/"
        },
        "id": "tfoPR0bHnF9J",
        "outputId": "2a7553c6-63f2-4e9d-b8a4-0cd194b5be44"
      },
      "outputs": [],
      "source": [
        "test_anomalies.sum(axis=0)"
      ]
    },
    {
      "cell_type": "code",
      "execution_count": null,
      "metadata": {
        "colab": {
          "base_uri": "https://localhost:8080/",
          "height": 807
        },
        "id": "92GEaaMonhsx",
        "outputId": "2e84b0a2-fe88-412f-bfe7-352ddeda94e9"
      },
      "outputs": [],
      "source": [
        "test_clusters_scores = compare_clusters_metrics(avg_df3, test_anomalies).round(4)\n",
        "test_clusters_scores"
      ]
    },
    {
      "cell_type": "markdown",
      "metadata": {
        "id": "sYsY_FjTau9m",
        "pycharm": {
          "name": "#%% md\n"
        }
      },
      "source": [
        "<!-- # Nonparametric  statistical comparison - PyCaret Models vs BiLSTM -->"
      ]
    },
    {
      "cell_type": "code",
      "execution_count": 136,
      "metadata": {
        "id": "7oGoBKInau9m",
        "pycharm": {
          "name": "#%%\n"
        }
      },
      "outputs": [],
      "source": [
        "from models_comparison import concat_dataframes, friedman_conover_comparison"
      ]
    },
    {
      "cell_type": "markdown",
      "metadata": {
        "id": "K4RCcoerau9m",
        "pycharm": {
          "name": "#%% md\n"
        }
      },
      "source": [
        "<!-- ---\n",
        "In this section the models will be compared by using nonparametrics statistics. The\n",
        "distributions are not normal and the data come from repeated measures of the same datasets.\n",
        "\n",
        "* __Nonparametric test - Friedmanchisquare__\n",
        "* __Posthoc test - Friedman-Conover__\n",
        "--- -->"
      ]
    },
    {
      "cell_type": "code",
      "execution_count": null,
      "metadata": {
        "colab": {
          "base_uri": "https://localhost:8080/",
          "height": 648
        },
        "id": "o9GcYBUKau9m",
        "outputId": "1b004ef6-58cf-4f39-8866-0a030cc2c4de",
        "pycharm": {
          "name": "#%%\n"
        }
      },
      "outputs": [],
      "source": [
        "train_stats, tr_p, train_ranks = friedman_conover_comparison(training_anomalies,\n",
        "                                                             plot_name='train_models')"
      ]
    },
    {
      "cell_type": "code",
      "execution_count": null,
      "metadata": {
        "colab": {
          "base_uri": "https://localhost:8080/"
        },
        "id": "A27lLdjdau9m",
        "outputId": "bfed3570-2683-4e2b-e338-6a745df8cf0b",
        "pycharm": {
          "name": "#%%\n"
        }
      },
      "outputs": [],
      "source": [
        "train_ranks.sort_values(axis=0, ascending=False).round(4)"
      ]
    },
    {
      "cell_type": "markdown",
      "metadata": {
        "id": "EgswrHNbau9n",
        "pycharm": {
          "name": "#%% md\n"
        }
      },
      "source": [
        "<!-- ## Test dataset -->"
      ]
    },
    {
      "cell_type": "code",
      "execution_count": null,
      "metadata": {
        "colab": {
          "base_uri": "https://localhost:8080/",
          "height": 619
        },
        "id": "eaa7RfQDau9n",
        "outputId": "ca60b880-deb5-48f2-f7fe-d32632437d18",
        "pycharm": {
          "name": "#%%\n"
        }
      },
      "outputs": [],
      "source": [
        "test_statistic, test_p, test_ranks = friedman_conover_comparison(test_anomalies,\n",
        "                                                                 plot_name='test_models')"
      ]
    },
    {
      "cell_type": "code",
      "execution_count": null,
      "metadata": {
        "colab": {
          "base_uri": "https://localhost:8080/"
        },
        "id": "eXDnrnfDau9n",
        "outputId": "f5b0f495-6143-42a4-81f5-db036c1e2875",
        "pycharm": {
          "name": "#%%\n"
        }
      },
      "outputs": [],
      "source": [
        "print(test_ranks.sort_values(axis=0, ascending=False))"
      ]
    },
    {
      "cell_type": "code",
      "execution_count": null,
      "metadata": {
        "colab": {
          "base_uri": "https://localhost:8080/"
        },
        "id": "_V_r16y8au9n",
        "outputId": "2558171f-8cbd-45ff-837d-c425de1f7b4f",
        "pycharm": {
          "name": "#%%del train_preds,\n"
        }
      },
      "outputs": [],
      "source": [
        "del pc_train_anomalies, bilstm_train_anomalies, training_anomalies, avg_df2\n",
        "del pc_test_anomalies, bilstm_test_anomalies, test_anomalies, avg_df3\n",
        "gc.collect()"
      ]
    },
    {
      "cell_type": "markdown",
      "metadata": {
        "collapsed": false,
        "id": "H1xg9feLau9o",
        "pycharm": {
          "name": "#%% md\n"
        }
      },
      "source": [
        "<!-- # Statistical Summary\n",
        "---\n",
        "\n",
        "**Training**\n",
        "\n",
        "\n",
        "*Cluster Metrics*\n",
        "\n",
        "The models that obtained the highest Calinski-Harabasz and Davies-Bouldin indexes were SVM, MCV and Histogram. These models, in addition to IForest, showed the highest Silhouette scores.\n",
        "\n",
        "*Non-parametric Comparison*\n",
        "\n",
        "Statistically different\n",
        "\n",
        "* From the nonparametric statistical Conover-Friedman test, we found a significant difference in detecting anomalies among the models with 95 \\% certainty.\n",
        "\n",
        "* For the training dataset, there is no significant difference in the performance of each Pycaret model. However, all BiLSTM experiments were significantly different to all PyCaret models.\n",
        "* All BiLSTM experiments were not significantly different from each other, as shown in the Friedman-Conover and critical difference diagrams.\n",
        "* Exp-04 ranked the highest scored but was not significantly different to __Exp-02__ to __Exp-04__. The anomaly could have been detected with 22:00 lead time with Exp-02 and Exp-04, while for the PyCaret models, the Clustering-Based Local outlier **cluster** could have detected the anomalies 14:40 hr in advance.\n",
        "\n",
        "\n",
        "---\n",
        "\n",
        "**Test**\n",
        "\n",
        "*Cluster Metrics*\n",
        "\n",
        "MCD and SVM obtained the highest Silhouette scores and Calinski-Harabasz and Davies-Bouldin indexes.\n",
        "\n",
        "\n",
        "* From the nonparametric test, we can reject the null hypothesis that the performance of all models at detecting anomalies is not significantly different with 95% certainty\n",
        "\n",
        "* The ranking of the models shows that the best model and the Conover-Friedman test and critical difference diagram showed no statistical difference amongst experiments Exp-01 to Exp-04 and iForest with 95% certainty.\n",
        "* Similarly, MCD and SVM showed no significant difference in detecting anomalies but significantly differed from all other models.\n",
        "\n",
        "* Experiments Exp-02 and Exp-04 minimised which objective function to minimised was the Huber-Loss ranked the highest of all models.\n",
        "* The Conover-Friedman test and critical difference diagram showed no statistical difference amongst experiments Exp-01 to Exp-04 and iForest.  \n",
        "* Any of the BiLSTM models could have detected the anomaly within a 27:00 hr lead time, specifically Exp-03 within 27:20:00, while iforest detected the anomalies within a lead time of 25:30:00.\n",
        "\n",
        "--- -->\n"
      ]
    },
    {
      "cell_type": "markdown",
      "metadata": {
        "collapsed": false,
        "id": "9psK2h5_au9o",
        "pycharm": {
          "name": "#%% md\n"
        }
      },
      "source": [
        "<!-- # Conclusion -->"
      ]
    },
    {
      "cell_type": "markdown",
      "metadata": {
        "collapsed": false,
        "id": "wfSZzB8bau9o",
        "pycharm": {
          "name": "#%% md\n"
        }
      },
      "source": [
        "<!-- In summary, Exp-04 consistently obtained the best performance in both datasets. The test dataset was almost six times larger than the train set. It also presented spikes at the beginning and middle of the test. We can observe that the data's size and quality impact the model's choice to detect failures. Models Histogram, Cluster, and KNN were excluded in the test comparison since they accounted for more than 50% in the test dataset which is inacurate as per the data visualisations. These model showed to be less robust for unseen data.\n",
        "\n",
        "Conversely, the IForest model took the lead in detecting anomalies together with Exp-01 and Exp-04 with no significant difference in their performance for the unseen test dataset. It showed to be more robust to changes independently of datset size and the unknown contamination.\n",
        "\n",
        "We can conclude that the PyCaret Anomalies models selected in this work and the Bilstm (Bidirectional LSTM) Artificial Neural Networks can detect failures on the bearing sensors' signals at the same performance level. Whether these models can detect failures days or weeks in advance in other unseen data requires further testing and optimisation. -->"
      ]
    }
  ],
  "metadata": {
    "colab": {
      "gpuType": "T4",
      "machine_shape": "hm",
      "provenance": []
    },
    "kernelspec": {
      "display_name": "Python 3",
      "language": "python",
      "name": "python3"
    },
    "language_info": {
      "codemirror_mode": {
        "name": "ipython",
        "version": 3
      },
      "file_extension": ".py",
      "mimetype": "text/x-python",
      "name": "python",
      "nbconvert_exporter": "python",
      "pygments_lexer": "ipython3",
      "version": "3.9.21"
    },
    "toc": {
      "base_numbering": 1,
      "nav_menu": {},
      "number_sections": true,
      "sideBar": true,
      "skip_h1_title": false,
      "title_cell": "Table of Contents",
      "title_sidebar": "Contents",
      "toc_cell": false,
      "toc_position": {
        "height": "calc(100% - 180px)",
        "left": "10px",
        "top": "150px",
        "width": "165px"
      },
      "toc_section_display": true,
      "toc_window_display": true
    },
    "varInspector": {
      "cols": {
        "lenName": 16,
        "lenType": 16,
        "lenVar": 40
      },
      "kernels_config": {
        "python": {
          "delete_cmd_postfix": "",
          "delete_cmd_prefix": "del ",
          "library": "var_list.py",
          "varRefreshCmd": "print(var_dic_list())"
        },
        "r": {
          "delete_cmd_postfix": ") ",
          "delete_cmd_prefix": "rm(",
          "library": "var_list.r",
          "varRefreshCmd": "cat(var_dic_list()) "
        }
      },
      "types_to_exclude": [
        "module",
        "function",
        "builtin_function_or_method",
        "instance",
        "_Feature"
      ],
      "window_display": false
    },
    "widgets": {
      "application/vnd.jupyter.widget-state+json": {
        "0621761e241345f68454386b077083a7": {
          "model_module": "@jupyter-widgets/controls",
          "model_module_version": "1.5.0",
          "model_name": "HTMLModel",
          "state": {
            "_dom_classes": [],
            "_model_module": "@jupyter-widgets/controls",
            "_model_module_version": "1.5.0",
            "_model_name": "HTMLModel",
            "_view_count": null,
            "_view_module": "@jupyter-widgets/controls",
            "_view_module_version": "1.5.0",
            "_view_name": "HTMLView",
            "description": "",
            "description_tooltip": null,
            "layout": "IPY_MODEL_c228c17647fa45a9b90e34e2f5da3ec6",
            "placeholder": "​",
            "style": "IPY_MODEL_1ea7e2a558de4c4d8eeebec2aa589269",
            "value": " 0/3 [00:00&lt;?, ?it/s]"
          }
        },
        "13bec598229848d880d1552d5c16aed3": {
          "model_module": "@jupyter-widgets/controls",
          "model_module_version": "1.5.0",
          "model_name": "ProgressStyleModel",
          "state": {
            "_model_module": "@jupyter-widgets/controls",
            "_model_module_version": "1.5.0",
            "_model_name": "ProgressStyleModel",
            "_view_count": null,
            "_view_module": "@jupyter-widgets/base",
            "_view_module_version": "1.2.0",
            "_view_name": "StyleView",
            "bar_color": null,
            "description_width": ""
          }
        },
        "14237d8ceb1e4f3cba7b3dcb9a78051f": {
          "model_module": "@jupyter-widgets/base",
          "model_module_version": "1.2.0",
          "model_name": "LayoutModel",
          "state": {
            "_model_module": "@jupyter-widgets/base",
            "_model_module_version": "1.2.0",
            "_model_name": "LayoutModel",
            "_view_count": null,
            "_view_module": "@jupyter-widgets/base",
            "_view_module_version": "1.2.0",
            "_view_name": "LayoutView",
            "align_content": null,
            "align_items": null,
            "align_self": null,
            "border": null,
            "bottom": null,
            "display": null,
            "flex": null,
            "flex_flow": null,
            "grid_area": null,
            "grid_auto_columns": null,
            "grid_auto_flow": null,
            "grid_auto_rows": null,
            "grid_column": null,
            "grid_gap": null,
            "grid_row": null,
            "grid_template_areas": null,
            "grid_template_columns": null,
            "grid_template_rows": null,
            "height": null,
            "justify_content": null,
            "justify_items": null,
            "left": null,
            "margin": null,
            "max_height": null,
            "max_width": null,
            "min_height": null,
            "min_width": null,
            "object_fit": null,
            "object_position": null,
            "order": null,
            "overflow": null,
            "overflow_x": null,
            "overflow_y": null,
            "padding": null,
            "right": null,
            "top": null,
            "visibility": null,
            "width": null
          }
        },
        "14c9179787074b5783c81366b2f2cf8b": {
          "model_module": "@jupyter-widgets/controls",
          "model_module_version": "1.5.0",
          "model_name": "DescriptionStyleModel",
          "state": {
            "_model_module": "@jupyter-widgets/controls",
            "_model_module_version": "1.5.0",
            "_model_name": "DescriptionStyleModel",
            "_view_count": null,
            "_view_module": "@jupyter-widgets/base",
            "_view_module_version": "1.2.0",
            "_view_name": "StyleView",
            "description_width": ""
          }
        },
        "15f151a4718744c0b72370c37bf2e0bd": {
          "model_module": "@jupyter-widgets/controls",
          "model_module_version": "1.5.0",
          "model_name": "HBoxModel",
          "state": {
            "_dom_classes": [],
            "_model_module": "@jupyter-widgets/controls",
            "_model_module_version": "1.5.0",
            "_model_name": "HBoxModel",
            "_view_count": null,
            "_view_module": "@jupyter-widgets/controls",
            "_view_module_version": "1.5.0",
            "_view_name": "HBoxView",
            "box_style": "",
            "children": [
              "IPY_MODEL_af4fbfb5ee5941f29cfb602abf0b88e5",
              "IPY_MODEL_aa40d05df2af4bf5b3fb0430839cd5f9",
              "IPY_MODEL_0621761e241345f68454386b077083a7"
            ],
            "layout": "IPY_MODEL_772d0a8706064887b810ff55ad422275"
          }
        },
        "1633015dfc0d4b059152d2922f571377": {
          "model_module": "@jupyter-widgets/controls",
          "model_module_version": "1.5.0",
          "model_name": "DescriptionStyleModel",
          "state": {
            "_model_module": "@jupyter-widgets/controls",
            "_model_module_version": "1.5.0",
            "_model_name": "DescriptionStyleModel",
            "_view_count": null,
            "_view_module": "@jupyter-widgets/base",
            "_view_module_version": "1.2.0",
            "_view_name": "StyleView",
            "description_width": ""
          }
        },
        "1697cb702a30446e8dad7959b89b13cc": {
          "model_module": "@jupyter-widgets/controls",
          "model_module_version": "1.5.0",
          "model_name": "FloatProgressModel",
          "state": {
            "_dom_classes": [],
            "_model_module": "@jupyter-widgets/controls",
            "_model_module_version": "1.5.0",
            "_model_name": "FloatProgressModel",
            "_view_count": null,
            "_view_module": "@jupyter-widgets/controls",
            "_view_module_version": "1.5.0",
            "_view_name": "ProgressView",
            "bar_style": "",
            "description": "",
            "description_tooltip": null,
            "layout": "IPY_MODEL_9b2612a7a0004404b3a8db0c92a119e3",
            "max": 3,
            "min": 0,
            "orientation": "horizontal",
            "style": "IPY_MODEL_34833153f2274d4b8337a6a6069a6a99",
            "value": 3
          }
        },
        "1ea7e2a558de4c4d8eeebec2aa589269": {
          "model_module": "@jupyter-widgets/controls",
          "model_module_version": "1.5.0",
          "model_name": "DescriptionStyleModel",
          "state": {
            "_model_module": "@jupyter-widgets/controls",
            "_model_module_version": "1.5.0",
            "_model_name": "DescriptionStyleModel",
            "_view_count": null,
            "_view_module": "@jupyter-widgets/base",
            "_view_module_version": "1.2.0",
            "_view_name": "StyleView",
            "description_width": ""
          }
        },
        "1f64adb77eac4ee4bd16146ac79d893f": {
          "model_module": "@jupyter-widgets/controls",
          "model_module_version": "1.5.0",
          "model_name": "HTMLModel",
          "state": {
            "_dom_classes": [],
            "_model_module": "@jupyter-widgets/controls",
            "_model_module_version": "1.5.0",
            "_model_name": "HTMLModel",
            "_view_count": null,
            "_view_module": "@jupyter-widgets/controls",
            "_view_module_version": "1.5.0",
            "_view_name": "HTMLView",
            "description": "",
            "description_tooltip": null,
            "layout": "IPY_MODEL_84af139d0af94c24925b0e3d0e492140",
            "placeholder": "​",
            "style": "IPY_MODEL_ed9d8128ffc84def8e3d53db935a747e",
            "value": " 0/3 [00:00&lt;?, ?it/s]"
          }
        },
        "30d1cea2f33442a0a2d5afe95d8595b4": {
          "model_module": "@jupyter-widgets/controls",
          "model_module_version": "1.5.0",
          "model_name": "HTMLModel",
          "state": {
            "_dom_classes": [],
            "_model_module": "@jupyter-widgets/controls",
            "_model_module_version": "1.5.0",
            "_model_name": "HTMLModel",
            "_view_count": null,
            "_view_module": "@jupyter-widgets/controls",
            "_view_module_version": "1.5.0",
            "_view_name": "HTMLView",
            "description": "",
            "description_tooltip": null,
            "layout": "IPY_MODEL_ce6fb3ff536a4d2eac8fbc7739823e88",
            "placeholder": "​",
            "style": "IPY_MODEL_40e3c8c2fb8943b0831d199c7031a511",
            "value": "Processing:   0%"
          }
        },
        "34833153f2274d4b8337a6a6069a6a99": {
          "model_module": "@jupyter-widgets/controls",
          "model_module_version": "1.5.0",
          "model_name": "ProgressStyleModel",
          "state": {
            "_model_module": "@jupyter-widgets/controls",
            "_model_module_version": "1.5.0",
            "_model_name": "ProgressStyleModel",
            "_view_count": null,
            "_view_module": "@jupyter-widgets/base",
            "_view_module_version": "1.2.0",
            "_view_name": "StyleView",
            "bar_color": null,
            "description_width": ""
          }
        },
        "3761bdf7c40441478ec1eef765dd9071": {
          "model_module": "@jupyter-widgets/controls",
          "model_module_version": "1.5.0",
          "model_name": "HTMLModel",
          "state": {
            "_dom_classes": [],
            "_model_module": "@jupyter-widgets/controls",
            "_model_module_version": "1.5.0",
            "_model_name": "HTMLModel",
            "_view_count": null,
            "_view_module": "@jupyter-widgets/controls",
            "_view_module_version": "1.5.0",
            "_view_name": "HTMLView",
            "description": "",
            "description_tooltip": null,
            "layout": "IPY_MODEL_b72192d8567b467bbd40956e27dd7806",
            "placeholder": "​",
            "style": "IPY_MODEL_1633015dfc0d4b059152d2922f571377",
            "value": " 0/3 [00:00&lt;?, ?it/s]"
          }
        },
        "392941f942c2478081b4096e79c54528": {
          "model_module": "@jupyter-widgets/controls",
          "model_module_version": "1.5.0",
          "model_name": "DescriptionStyleModel",
          "state": {
            "_model_module": "@jupyter-widgets/controls",
            "_model_module_version": "1.5.0",
            "_model_name": "DescriptionStyleModel",
            "_view_count": null,
            "_view_module": "@jupyter-widgets/base",
            "_view_module_version": "1.2.0",
            "_view_name": "StyleView",
            "description_width": ""
          }
        },
        "3bf0fca5f9964a348954d5366695d7e4": {
          "model_module": "@jupyter-widgets/base",
          "model_module_version": "1.2.0",
          "model_name": "LayoutModel",
          "state": {
            "_model_module": "@jupyter-widgets/base",
            "_model_module_version": "1.2.0",
            "_model_name": "LayoutModel",
            "_view_count": null,
            "_view_module": "@jupyter-widgets/base",
            "_view_module_version": "1.2.0",
            "_view_name": "LayoutView",
            "align_content": null,
            "align_items": null,
            "align_self": null,
            "border": null,
            "bottom": null,
            "display": null,
            "flex": null,
            "flex_flow": null,
            "grid_area": null,
            "grid_auto_columns": null,
            "grid_auto_flow": null,
            "grid_auto_rows": null,
            "grid_column": null,
            "grid_gap": null,
            "grid_row": null,
            "grid_template_areas": null,
            "grid_template_columns": null,
            "grid_template_rows": null,
            "height": null,
            "justify_content": null,
            "justify_items": null,
            "left": null,
            "margin": null,
            "max_height": null,
            "max_width": null,
            "min_height": null,
            "min_width": null,
            "object_fit": null,
            "object_position": null,
            "order": null,
            "overflow": null,
            "overflow_x": null,
            "overflow_y": null,
            "padding": null,
            "right": null,
            "top": null,
            "visibility": null,
            "width": null
          }
        },
        "3f72db7abc1a4ef0b1f6a4d538732712": {
          "model_module": "@jupyter-widgets/controls",
          "model_module_version": "1.5.0",
          "model_name": "FloatProgressModel",
          "state": {
            "_dom_classes": [],
            "_model_module": "@jupyter-widgets/controls",
            "_model_module_version": "1.5.0",
            "_model_name": "FloatProgressModel",
            "_view_count": null,
            "_view_module": "@jupyter-widgets/controls",
            "_view_module_version": "1.5.0",
            "_view_name": "ProgressView",
            "bar_style": "",
            "description": "",
            "description_tooltip": null,
            "layout": "IPY_MODEL_14237d8ceb1e4f3cba7b3dcb9a78051f",
            "max": 3,
            "min": 0,
            "orientation": "horizontal",
            "style": "IPY_MODEL_f3ec22e5282a4c3abe8939b5360f8110",
            "value": 3
          }
        },
        "40e3c8c2fb8943b0831d199c7031a511": {
          "model_module": "@jupyter-widgets/controls",
          "model_module_version": "1.5.0",
          "model_name": "DescriptionStyleModel",
          "state": {
            "_model_module": "@jupyter-widgets/controls",
            "_model_module_version": "1.5.0",
            "_model_name": "DescriptionStyleModel",
            "_view_count": null,
            "_view_module": "@jupyter-widgets/base",
            "_view_module_version": "1.2.0",
            "_view_name": "StyleView",
            "description_width": ""
          }
        },
        "44051b6306134ae1a8f305d3cdb9a7db": {
          "model_module": "@jupyter-widgets/controls",
          "model_module_version": "1.5.0",
          "model_name": "ProgressStyleModel",
          "state": {
            "_model_module": "@jupyter-widgets/controls",
            "_model_module_version": "1.5.0",
            "_model_name": "ProgressStyleModel",
            "_view_count": null,
            "_view_module": "@jupyter-widgets/base",
            "_view_module_version": "1.2.0",
            "_view_name": "StyleView",
            "bar_color": null,
            "description_width": ""
          }
        },
        "449f9c82e74e40caa9291ea56d949b3f": {
          "model_module": "@jupyter-widgets/controls",
          "model_module_version": "1.5.0",
          "model_name": "DescriptionStyleModel",
          "state": {
            "_model_module": "@jupyter-widgets/controls",
            "_model_module_version": "1.5.0",
            "_model_name": "DescriptionStyleModel",
            "_view_count": null,
            "_view_module": "@jupyter-widgets/base",
            "_view_module_version": "1.2.0",
            "_view_name": "StyleView",
            "description_width": ""
          }
        },
        "4784aff1b71a4e3881df7bc51337824b": {
          "model_module": "@jupyter-widgets/controls",
          "model_module_version": "1.5.0",
          "model_name": "FloatProgressModel",
          "state": {
            "_dom_classes": [],
            "_model_module": "@jupyter-widgets/controls",
            "_model_module_version": "1.5.0",
            "_model_name": "FloatProgressModel",
            "_view_count": null,
            "_view_module": "@jupyter-widgets/controls",
            "_view_module_version": "1.5.0",
            "_view_name": "ProgressView",
            "bar_style": "",
            "description": "",
            "description_tooltip": null,
            "layout": "IPY_MODEL_a5dbbb28ab234a5c8cd9a496759c1975",
            "max": 3,
            "min": 0,
            "orientation": "horizontal",
            "style": "IPY_MODEL_44051b6306134ae1a8f305d3cdb9a7db",
            "value": 3
          }
        },
        "48b01917dcb246a099daca139438fd0c": {
          "model_module": "@jupyter-widgets/controls",
          "model_module_version": "1.5.0",
          "model_name": "DescriptionStyleModel",
          "state": {
            "_model_module": "@jupyter-widgets/controls",
            "_model_module_version": "1.5.0",
            "_model_name": "DescriptionStyleModel",
            "_view_count": null,
            "_view_module": "@jupyter-widgets/base",
            "_view_module_version": "1.2.0",
            "_view_name": "StyleView",
            "description_width": ""
          }
        },
        "4bd7348bbed642699ab460b9d6e01015": {
          "model_module": "@jupyter-widgets/base",
          "model_module_version": "1.2.0",
          "model_name": "LayoutModel",
          "state": {
            "_model_module": "@jupyter-widgets/base",
            "_model_module_version": "1.2.0",
            "_model_name": "LayoutModel",
            "_view_count": null,
            "_view_module": "@jupyter-widgets/base",
            "_view_module_version": "1.2.0",
            "_view_name": "LayoutView",
            "align_content": null,
            "align_items": null,
            "align_self": null,
            "border": null,
            "bottom": null,
            "display": null,
            "flex": null,
            "flex_flow": null,
            "grid_area": null,
            "grid_auto_columns": null,
            "grid_auto_flow": null,
            "grid_auto_rows": null,
            "grid_column": null,
            "grid_gap": null,
            "grid_row": null,
            "grid_template_areas": null,
            "grid_template_columns": null,
            "grid_template_rows": null,
            "height": null,
            "justify_content": null,
            "justify_items": null,
            "left": null,
            "margin": null,
            "max_height": null,
            "max_width": null,
            "min_height": null,
            "min_width": null,
            "object_fit": null,
            "object_position": null,
            "order": null,
            "overflow": null,
            "overflow_x": null,
            "overflow_y": null,
            "padding": null,
            "right": null,
            "top": null,
            "visibility": null,
            "width": null
          }
        },
        "537b5b22f9934d93b2ca5c942ba6a57b": {
          "model_module": "@jupyter-widgets/base",
          "model_module_version": "1.2.0",
          "model_name": "LayoutModel",
          "state": {
            "_model_module": "@jupyter-widgets/base",
            "_model_module_version": "1.2.0",
            "_model_name": "LayoutModel",
            "_view_count": null,
            "_view_module": "@jupyter-widgets/base",
            "_view_module_version": "1.2.0",
            "_view_name": "LayoutView",
            "align_content": null,
            "align_items": null,
            "align_self": null,
            "border": null,
            "bottom": null,
            "display": null,
            "flex": null,
            "flex_flow": null,
            "grid_area": null,
            "grid_auto_columns": null,
            "grid_auto_flow": null,
            "grid_auto_rows": null,
            "grid_column": null,
            "grid_gap": null,
            "grid_row": null,
            "grid_template_areas": null,
            "grid_template_columns": null,
            "grid_template_rows": null,
            "height": null,
            "justify_content": null,
            "justify_items": null,
            "left": null,
            "margin": null,
            "max_height": null,
            "max_width": null,
            "min_height": null,
            "min_width": null,
            "object_fit": null,
            "object_position": null,
            "order": null,
            "overflow": null,
            "overflow_x": null,
            "overflow_y": null,
            "padding": null,
            "right": null,
            "top": null,
            "visibility": "hidden",
            "width": null
          }
        },
        "606cd8fff4094523bf5b1ae040d2323d": {
          "model_module": "@jupyter-widgets/controls",
          "model_module_version": "1.5.0",
          "model_name": "HTMLModel",
          "state": {
            "_dom_classes": [],
            "_model_module": "@jupyter-widgets/controls",
            "_model_module_version": "1.5.0",
            "_model_name": "HTMLModel",
            "_view_count": null,
            "_view_module": "@jupyter-widgets/controls",
            "_view_module_version": "1.5.0",
            "_view_name": "HTMLView",
            "description": "",
            "description_tooltip": null,
            "layout": "IPY_MODEL_d14a438ff3f64d0f89cce2b4eca10478",
            "placeholder": "​",
            "style": "IPY_MODEL_449f9c82e74e40caa9291ea56d949b3f",
            "value": " 0/3 [00:00&lt;?, ?it/s]"
          }
        },
        "60e8696ccf024d5083d3ed800a85cd1c": {
          "model_module": "@jupyter-widgets/controls",
          "model_module_version": "1.5.0",
          "model_name": "HBoxModel",
          "state": {
            "_dom_classes": [],
            "_model_module": "@jupyter-widgets/controls",
            "_model_module_version": "1.5.0",
            "_model_name": "HBoxModel",
            "_view_count": null,
            "_view_module": "@jupyter-widgets/controls",
            "_view_module_version": "1.5.0",
            "_view_name": "HBoxView",
            "box_style": "",
            "children": [
              "IPY_MODEL_c573803216c148f0a1cfb3adb421de87",
              "IPY_MODEL_4784aff1b71a4e3881df7bc51337824b",
              "IPY_MODEL_1f64adb77eac4ee4bd16146ac79d893f"
            ],
            "layout": "IPY_MODEL_e088f49df0a24e78a2a94152410e65ae"
          }
        },
        "61cc1bd3d6f4448fb7bb3667f354262a": {
          "model_module": "@jupyter-widgets/base",
          "model_module_version": "1.2.0",
          "model_name": "LayoutModel",
          "state": {
            "_model_module": "@jupyter-widgets/base",
            "_model_module_version": "1.2.0",
            "_model_name": "LayoutModel",
            "_view_count": null,
            "_view_module": "@jupyter-widgets/base",
            "_view_module_version": "1.2.0",
            "_view_name": "LayoutView",
            "align_content": null,
            "align_items": null,
            "align_self": null,
            "border": null,
            "bottom": null,
            "display": null,
            "flex": null,
            "flex_flow": null,
            "grid_area": null,
            "grid_auto_columns": null,
            "grid_auto_flow": null,
            "grid_auto_rows": null,
            "grid_column": null,
            "grid_gap": null,
            "grid_row": null,
            "grid_template_areas": null,
            "grid_template_columns": null,
            "grid_template_rows": null,
            "height": null,
            "justify_content": null,
            "justify_items": null,
            "left": null,
            "margin": null,
            "max_height": null,
            "max_width": null,
            "min_height": null,
            "min_width": null,
            "object_fit": null,
            "object_position": null,
            "order": null,
            "overflow": null,
            "overflow_x": null,
            "overflow_y": null,
            "padding": null,
            "right": null,
            "top": null,
            "visibility": null,
            "width": null
          }
        },
        "679a8e52ba7544d2b4c67c0640d34454": {
          "model_module": "@jupyter-widgets/controls",
          "model_module_version": "1.5.0",
          "model_name": "HBoxModel",
          "state": {
            "_dom_classes": [],
            "_model_module": "@jupyter-widgets/controls",
            "_model_module_version": "1.5.0",
            "_model_name": "HBoxModel",
            "_view_count": null,
            "_view_module": "@jupyter-widgets/controls",
            "_view_module_version": "1.5.0",
            "_view_name": "HBoxView",
            "box_style": "",
            "children": [
              "IPY_MODEL_ff1d91481e344f2d97c14c4ecc83210c",
              "IPY_MODEL_3f72db7abc1a4ef0b1f6a4d538732712",
              "IPY_MODEL_f0be8256a20849628aaf32db5e7817eb"
            ],
            "layout": "IPY_MODEL_e906884e7f9a4724bd52f07448fca14e"
          }
        },
        "67a0f12eb3a84d52bbc0a783c9257feb": {
          "model_module": "@jupyter-widgets/base",
          "model_module_version": "1.2.0",
          "model_name": "LayoutModel",
          "state": {
            "_model_module": "@jupyter-widgets/base",
            "_model_module_version": "1.2.0",
            "_model_name": "LayoutModel",
            "_view_count": null,
            "_view_module": "@jupyter-widgets/base",
            "_view_module_version": "1.2.0",
            "_view_name": "LayoutView",
            "align_content": null,
            "align_items": null,
            "align_self": null,
            "border": null,
            "bottom": null,
            "display": null,
            "flex": null,
            "flex_flow": null,
            "grid_area": null,
            "grid_auto_columns": null,
            "grid_auto_flow": null,
            "grid_auto_rows": null,
            "grid_column": null,
            "grid_gap": null,
            "grid_row": null,
            "grid_template_areas": null,
            "grid_template_columns": null,
            "grid_template_rows": null,
            "height": null,
            "justify_content": null,
            "justify_items": null,
            "left": null,
            "margin": null,
            "max_height": null,
            "max_width": null,
            "min_height": null,
            "min_width": null,
            "object_fit": null,
            "object_position": null,
            "order": null,
            "overflow": null,
            "overflow_x": null,
            "overflow_y": null,
            "padding": null,
            "right": null,
            "top": null,
            "visibility": "hidden",
            "width": null
          }
        },
        "69e126645d7f43e6afaf77bb4a00c6e4": {
          "model_module": "@jupyter-widgets/controls",
          "model_module_version": "1.5.0",
          "model_name": "ProgressStyleModel",
          "state": {
            "_model_module": "@jupyter-widgets/controls",
            "_model_module_version": "1.5.0",
            "_model_name": "ProgressStyleModel",
            "_view_count": null,
            "_view_module": "@jupyter-widgets/base",
            "_view_module_version": "1.2.0",
            "_view_name": "StyleView",
            "bar_color": null,
            "description_width": ""
          }
        },
        "6cfe01d191844ebfa0e7ef04bcb35981": {
          "model_module": "@jupyter-widgets/base",
          "model_module_version": "1.2.0",
          "model_name": "LayoutModel",
          "state": {
            "_model_module": "@jupyter-widgets/base",
            "_model_module_version": "1.2.0",
            "_model_name": "LayoutModel",
            "_view_count": null,
            "_view_module": "@jupyter-widgets/base",
            "_view_module_version": "1.2.0",
            "_view_name": "LayoutView",
            "align_content": null,
            "align_items": null,
            "align_self": null,
            "border": null,
            "bottom": null,
            "display": null,
            "flex": null,
            "flex_flow": null,
            "grid_area": null,
            "grid_auto_columns": null,
            "grid_auto_flow": null,
            "grid_auto_rows": null,
            "grid_column": null,
            "grid_gap": null,
            "grid_row": null,
            "grid_template_areas": null,
            "grid_template_columns": null,
            "grid_template_rows": null,
            "height": null,
            "justify_content": null,
            "justify_items": null,
            "left": null,
            "margin": null,
            "max_height": null,
            "max_width": null,
            "min_height": null,
            "min_width": null,
            "object_fit": null,
            "object_position": null,
            "order": null,
            "overflow": null,
            "overflow_x": null,
            "overflow_y": null,
            "padding": null,
            "right": null,
            "top": null,
            "visibility": null,
            "width": null
          }
        },
        "6eacf75e4a5c45efa66990425ad18b03": {
          "model_module": "@jupyter-widgets/controls",
          "model_module_version": "1.5.0",
          "model_name": "HTMLModel",
          "state": {
            "_dom_classes": [],
            "_model_module": "@jupyter-widgets/controls",
            "_model_module_version": "1.5.0",
            "_model_name": "HTMLModel",
            "_view_count": null,
            "_view_module": "@jupyter-widgets/controls",
            "_view_module_version": "1.5.0",
            "_view_name": "HTMLView",
            "description": "",
            "description_tooltip": null,
            "layout": "IPY_MODEL_eec3c98b7970433dabf52de618f858a0",
            "placeholder": "​",
            "style": "IPY_MODEL_b8c2d733a665426790fe337e5a2f1cee",
            "value": " 0/3 [00:00&lt;?, ?it/s]"
          }
        },
        "7355a80abddc4bc19c465e805c931be2": {
          "model_module": "@jupyter-widgets/controls",
          "model_module_version": "1.5.0",
          "model_name": "DescriptionStyleModel",
          "state": {
            "_model_module": "@jupyter-widgets/controls",
            "_model_module_version": "1.5.0",
            "_model_name": "DescriptionStyleModel",
            "_view_count": null,
            "_view_module": "@jupyter-widgets/base",
            "_view_module_version": "1.2.0",
            "_view_name": "StyleView",
            "description_width": ""
          }
        },
        "772d0a8706064887b810ff55ad422275": {
          "model_module": "@jupyter-widgets/base",
          "model_module_version": "1.2.0",
          "model_name": "LayoutModel",
          "state": {
            "_model_module": "@jupyter-widgets/base",
            "_model_module_version": "1.2.0",
            "_model_name": "LayoutModel",
            "_view_count": null,
            "_view_module": "@jupyter-widgets/base",
            "_view_module_version": "1.2.0",
            "_view_name": "LayoutView",
            "align_content": null,
            "align_items": null,
            "align_self": null,
            "border": null,
            "bottom": null,
            "display": null,
            "flex": null,
            "flex_flow": null,
            "grid_area": null,
            "grid_auto_columns": null,
            "grid_auto_flow": null,
            "grid_auto_rows": null,
            "grid_column": null,
            "grid_gap": null,
            "grid_row": null,
            "grid_template_areas": null,
            "grid_template_columns": null,
            "grid_template_rows": null,
            "height": null,
            "justify_content": null,
            "justify_items": null,
            "left": null,
            "margin": null,
            "max_height": null,
            "max_width": null,
            "min_height": null,
            "min_width": null,
            "object_fit": null,
            "object_position": null,
            "order": null,
            "overflow": null,
            "overflow_x": null,
            "overflow_y": null,
            "padding": null,
            "right": null,
            "top": null,
            "visibility": "hidden",
            "width": null
          }
        },
        "84af139d0af94c24925b0e3d0e492140": {
          "model_module": "@jupyter-widgets/base",
          "model_module_version": "1.2.0",
          "model_name": "LayoutModel",
          "state": {
            "_model_module": "@jupyter-widgets/base",
            "_model_module_version": "1.2.0",
            "_model_name": "LayoutModel",
            "_view_count": null,
            "_view_module": "@jupyter-widgets/base",
            "_view_module_version": "1.2.0",
            "_view_name": "LayoutView",
            "align_content": null,
            "align_items": null,
            "align_self": null,
            "border": null,
            "bottom": null,
            "display": null,
            "flex": null,
            "flex_flow": null,
            "grid_area": null,
            "grid_auto_columns": null,
            "grid_auto_flow": null,
            "grid_auto_rows": null,
            "grid_column": null,
            "grid_gap": null,
            "grid_row": null,
            "grid_template_areas": null,
            "grid_template_columns": null,
            "grid_template_rows": null,
            "height": null,
            "justify_content": null,
            "justify_items": null,
            "left": null,
            "margin": null,
            "max_height": null,
            "max_width": null,
            "min_height": null,
            "min_width": null,
            "object_fit": null,
            "object_position": null,
            "order": null,
            "overflow": null,
            "overflow_x": null,
            "overflow_y": null,
            "padding": null,
            "right": null,
            "top": null,
            "visibility": null,
            "width": null
          }
        },
        "84b5e2c25ab54d3ba00d605c06631a39": {
          "model_module": "@jupyter-widgets/controls",
          "model_module_version": "1.5.0",
          "model_name": "FloatProgressModel",
          "state": {
            "_dom_classes": [],
            "_model_module": "@jupyter-widgets/controls",
            "_model_module_version": "1.5.0",
            "_model_name": "FloatProgressModel",
            "_view_count": null,
            "_view_module": "@jupyter-widgets/controls",
            "_view_module_version": "1.5.0",
            "_view_name": "ProgressView",
            "bar_style": "",
            "description": "",
            "description_tooltip": null,
            "layout": "IPY_MODEL_dbad37a4834b44aab30522fd857e5b51",
            "max": 3,
            "min": 0,
            "orientation": "horizontal",
            "style": "IPY_MODEL_69e126645d7f43e6afaf77bb4a00c6e4",
            "value": 3
          }
        },
        "863b1c9b28084e7997b37f31fcfefdc2": {
          "model_module": "@jupyter-widgets/base",
          "model_module_version": "1.2.0",
          "model_name": "LayoutModel",
          "state": {
            "_model_module": "@jupyter-widgets/base",
            "_model_module_version": "1.2.0",
            "_model_name": "LayoutModel",
            "_view_count": null,
            "_view_module": "@jupyter-widgets/base",
            "_view_module_version": "1.2.0",
            "_view_name": "LayoutView",
            "align_content": null,
            "align_items": null,
            "align_self": null,
            "border": null,
            "bottom": null,
            "display": null,
            "flex": null,
            "flex_flow": null,
            "grid_area": null,
            "grid_auto_columns": null,
            "grid_auto_flow": null,
            "grid_auto_rows": null,
            "grid_column": null,
            "grid_gap": null,
            "grid_row": null,
            "grid_template_areas": null,
            "grid_template_columns": null,
            "grid_template_rows": null,
            "height": null,
            "justify_content": null,
            "justify_items": null,
            "left": null,
            "margin": null,
            "max_height": null,
            "max_width": null,
            "min_height": null,
            "min_width": null,
            "object_fit": null,
            "object_position": null,
            "order": null,
            "overflow": null,
            "overflow_x": null,
            "overflow_y": null,
            "padding": null,
            "right": null,
            "top": null,
            "visibility": null,
            "width": null
          }
        },
        "8a60c53ece784845876726274b0a9ca4": {
          "model_module": "@jupyter-widgets/controls",
          "model_module_version": "1.5.0",
          "model_name": "DescriptionStyleModel",
          "state": {
            "_model_module": "@jupyter-widgets/controls",
            "_model_module_version": "1.5.0",
            "_model_name": "DescriptionStyleModel",
            "_view_count": null,
            "_view_module": "@jupyter-widgets/base",
            "_view_module_version": "1.2.0",
            "_view_name": "StyleView",
            "description_width": ""
          }
        },
        "8dc8359716474b68a0beae014afa9b60": {
          "model_module": "@jupyter-widgets/controls",
          "model_module_version": "1.5.0",
          "model_name": "DescriptionStyleModel",
          "state": {
            "_model_module": "@jupyter-widgets/controls",
            "_model_module_version": "1.5.0",
            "_model_name": "DescriptionStyleModel",
            "_view_count": null,
            "_view_module": "@jupyter-widgets/base",
            "_view_module_version": "1.2.0",
            "_view_name": "StyleView",
            "description_width": ""
          }
        },
        "95501ddf6aa64ecc8c1b9d850b9d469e": {
          "model_module": "@jupyter-widgets/controls",
          "model_module_version": "1.5.0",
          "model_name": "HBoxModel",
          "state": {
            "_dom_classes": [],
            "_model_module": "@jupyter-widgets/controls",
            "_model_module_version": "1.5.0",
            "_model_name": "HBoxModel",
            "_view_count": null,
            "_view_module": "@jupyter-widgets/controls",
            "_view_module_version": "1.5.0",
            "_view_name": "HBoxView",
            "box_style": "",
            "children": [
              "IPY_MODEL_ee5b55dd3de34d6dbf796c2fcbc5b91b",
              "IPY_MODEL_1697cb702a30446e8dad7959b89b13cc",
              "IPY_MODEL_3761bdf7c40441478ec1eef765dd9071"
            ],
            "layout": "IPY_MODEL_bfd1c70079274488813bf439b3c9a15a"
          }
        },
        "9b2612a7a0004404b3a8db0c92a119e3": {
          "model_module": "@jupyter-widgets/base",
          "model_module_version": "1.2.0",
          "model_name": "LayoutModel",
          "state": {
            "_model_module": "@jupyter-widgets/base",
            "_model_module_version": "1.2.0",
            "_model_name": "LayoutModel",
            "_view_count": null,
            "_view_module": "@jupyter-widgets/base",
            "_view_module_version": "1.2.0",
            "_view_name": "LayoutView",
            "align_content": null,
            "align_items": null,
            "align_self": null,
            "border": null,
            "bottom": null,
            "display": null,
            "flex": null,
            "flex_flow": null,
            "grid_area": null,
            "grid_auto_columns": null,
            "grid_auto_flow": null,
            "grid_auto_rows": null,
            "grid_column": null,
            "grid_gap": null,
            "grid_row": null,
            "grid_template_areas": null,
            "grid_template_columns": null,
            "grid_template_rows": null,
            "height": null,
            "justify_content": null,
            "justify_items": null,
            "left": null,
            "margin": null,
            "max_height": null,
            "max_width": null,
            "min_height": null,
            "min_width": null,
            "object_fit": null,
            "object_position": null,
            "order": null,
            "overflow": null,
            "overflow_x": null,
            "overflow_y": null,
            "padding": null,
            "right": null,
            "top": null,
            "visibility": null,
            "width": null
          }
        },
        "9cf75f20e59f46628adc2a8e6729201a": {
          "model_module": "@jupyter-widgets/controls",
          "model_module_version": "1.5.0",
          "model_name": "HTMLModel",
          "state": {
            "_dom_classes": [],
            "_model_module": "@jupyter-widgets/controls",
            "_model_module_version": "1.5.0",
            "_model_name": "HTMLModel",
            "_view_count": null,
            "_view_module": "@jupyter-widgets/controls",
            "_view_module_version": "1.5.0",
            "_view_name": "HTMLView",
            "description": "",
            "description_tooltip": null,
            "layout": "IPY_MODEL_c0ae8c84390b4c309f9d4fc096af7940",
            "placeholder": "​",
            "style": "IPY_MODEL_8a60c53ece784845876726274b0a9ca4",
            "value": "Processing:   0%"
          }
        },
        "a5dbbb28ab234a5c8cd9a496759c1975": {
          "model_module": "@jupyter-widgets/base",
          "model_module_version": "1.2.0",
          "model_name": "LayoutModel",
          "state": {
            "_model_module": "@jupyter-widgets/base",
            "_model_module_version": "1.2.0",
            "_model_name": "LayoutModel",
            "_view_count": null,
            "_view_module": "@jupyter-widgets/base",
            "_view_module_version": "1.2.0",
            "_view_name": "LayoutView",
            "align_content": null,
            "align_items": null,
            "align_self": null,
            "border": null,
            "bottom": null,
            "display": null,
            "flex": null,
            "flex_flow": null,
            "grid_area": null,
            "grid_auto_columns": null,
            "grid_auto_flow": null,
            "grid_auto_rows": null,
            "grid_column": null,
            "grid_gap": null,
            "grid_row": null,
            "grid_template_areas": null,
            "grid_template_columns": null,
            "grid_template_rows": null,
            "height": null,
            "justify_content": null,
            "justify_items": null,
            "left": null,
            "margin": null,
            "max_height": null,
            "max_width": null,
            "min_height": null,
            "min_width": null,
            "object_fit": null,
            "object_position": null,
            "order": null,
            "overflow": null,
            "overflow_x": null,
            "overflow_y": null,
            "padding": null,
            "right": null,
            "top": null,
            "visibility": null,
            "width": null
          }
        },
        "aa40d05df2af4bf5b3fb0430839cd5f9": {
          "model_module": "@jupyter-widgets/controls",
          "model_module_version": "1.5.0",
          "model_name": "FloatProgressModel",
          "state": {
            "_dom_classes": [],
            "_model_module": "@jupyter-widgets/controls",
            "_model_module_version": "1.5.0",
            "_model_name": "FloatProgressModel",
            "_view_count": null,
            "_view_module": "@jupyter-widgets/controls",
            "_view_module_version": "1.5.0",
            "_view_name": "ProgressView",
            "bar_style": "",
            "description": "",
            "description_tooltip": null,
            "layout": "IPY_MODEL_61cc1bd3d6f4448fb7bb3667f354262a",
            "max": 3,
            "min": 0,
            "orientation": "horizontal",
            "style": "IPY_MODEL_c233b7c68e3f4a5db87ab48775fa051c",
            "value": 3
          }
        },
        "ab5a743af1704321a2942eb48a31bc6a": {
          "model_module": "@jupyter-widgets/controls",
          "model_module_version": "1.5.0",
          "model_name": "FloatProgressModel",
          "state": {
            "_dom_classes": [],
            "_model_module": "@jupyter-widgets/controls",
            "_model_module_version": "1.5.0",
            "_model_name": "FloatProgressModel",
            "_view_count": null,
            "_view_module": "@jupyter-widgets/controls",
            "_view_module_version": "1.5.0",
            "_view_name": "ProgressView",
            "bar_style": "",
            "description": "",
            "description_tooltip": null,
            "layout": "IPY_MODEL_e7474c735242412b8bd86204f18f9600",
            "max": 3,
            "min": 0,
            "orientation": "horizontal",
            "style": "IPY_MODEL_13bec598229848d880d1552d5c16aed3",
            "value": 3
          }
        },
        "ae978ba3f3984de7b20d252d4132ece9": {
          "model_module": "@jupyter-widgets/controls",
          "model_module_version": "1.5.0",
          "model_name": "HBoxModel",
          "state": {
            "_dom_classes": [],
            "_model_module": "@jupyter-widgets/controls",
            "_model_module_version": "1.5.0",
            "_model_name": "HBoxModel",
            "_view_count": null,
            "_view_module": "@jupyter-widgets/controls",
            "_view_module_version": "1.5.0",
            "_view_name": "HBoxView",
            "box_style": "",
            "children": [
              "IPY_MODEL_9cf75f20e59f46628adc2a8e6729201a",
              "IPY_MODEL_ab5a743af1704321a2942eb48a31bc6a",
              "IPY_MODEL_606cd8fff4094523bf5b1ae040d2323d"
            ],
            "layout": "IPY_MODEL_537b5b22f9934d93b2ca5c942ba6a57b"
          }
        },
        "af4fbfb5ee5941f29cfb602abf0b88e5": {
          "model_module": "@jupyter-widgets/controls",
          "model_module_version": "1.5.0",
          "model_name": "HTMLModel",
          "state": {
            "_dom_classes": [],
            "_model_module": "@jupyter-widgets/controls",
            "_model_module_version": "1.5.0",
            "_model_name": "HTMLModel",
            "_view_count": null,
            "_view_module": "@jupyter-widgets/controls",
            "_view_module_version": "1.5.0",
            "_view_name": "HTMLView",
            "description": "",
            "description_tooltip": null,
            "layout": "IPY_MODEL_6cfe01d191844ebfa0e7ef04bcb35981",
            "placeholder": "​",
            "style": "IPY_MODEL_7355a80abddc4bc19c465e805c931be2",
            "value": "Processing:   0%"
          }
        },
        "b72192d8567b467bbd40956e27dd7806": {
          "model_module": "@jupyter-widgets/base",
          "model_module_version": "1.2.0",
          "model_name": "LayoutModel",
          "state": {
            "_model_module": "@jupyter-widgets/base",
            "_model_module_version": "1.2.0",
            "_model_name": "LayoutModel",
            "_view_count": null,
            "_view_module": "@jupyter-widgets/base",
            "_view_module_version": "1.2.0",
            "_view_name": "LayoutView",
            "align_content": null,
            "align_items": null,
            "align_self": null,
            "border": null,
            "bottom": null,
            "display": null,
            "flex": null,
            "flex_flow": null,
            "grid_area": null,
            "grid_auto_columns": null,
            "grid_auto_flow": null,
            "grid_auto_rows": null,
            "grid_column": null,
            "grid_gap": null,
            "grid_row": null,
            "grid_template_areas": null,
            "grid_template_columns": null,
            "grid_template_rows": null,
            "height": null,
            "justify_content": null,
            "justify_items": null,
            "left": null,
            "margin": null,
            "max_height": null,
            "max_width": null,
            "min_height": null,
            "min_width": null,
            "object_fit": null,
            "object_position": null,
            "order": null,
            "overflow": null,
            "overflow_x": null,
            "overflow_y": null,
            "padding": null,
            "right": null,
            "top": null,
            "visibility": null,
            "width": null
          }
        },
        "b8c2d733a665426790fe337e5a2f1cee": {
          "model_module": "@jupyter-widgets/controls",
          "model_module_version": "1.5.0",
          "model_name": "DescriptionStyleModel",
          "state": {
            "_model_module": "@jupyter-widgets/controls",
            "_model_module_version": "1.5.0",
            "_model_name": "DescriptionStyleModel",
            "_view_count": null,
            "_view_module": "@jupyter-widgets/base",
            "_view_module_version": "1.2.0",
            "_view_name": "StyleView",
            "description_width": ""
          }
        },
        "bfd1c70079274488813bf439b3c9a15a": {
          "model_module": "@jupyter-widgets/base",
          "model_module_version": "1.2.0",
          "model_name": "LayoutModel",
          "state": {
            "_model_module": "@jupyter-widgets/base",
            "_model_module_version": "1.2.0",
            "_model_name": "LayoutModel",
            "_view_count": null,
            "_view_module": "@jupyter-widgets/base",
            "_view_module_version": "1.2.0",
            "_view_name": "LayoutView",
            "align_content": null,
            "align_items": null,
            "align_self": null,
            "border": null,
            "bottom": null,
            "display": null,
            "flex": null,
            "flex_flow": null,
            "grid_area": null,
            "grid_auto_columns": null,
            "grid_auto_flow": null,
            "grid_auto_rows": null,
            "grid_column": null,
            "grid_gap": null,
            "grid_row": null,
            "grid_template_areas": null,
            "grid_template_columns": null,
            "grid_template_rows": null,
            "height": null,
            "justify_content": null,
            "justify_items": null,
            "left": null,
            "margin": null,
            "max_height": null,
            "max_width": null,
            "min_height": null,
            "min_width": null,
            "object_fit": null,
            "object_position": null,
            "order": null,
            "overflow": null,
            "overflow_x": null,
            "overflow_y": null,
            "padding": null,
            "right": null,
            "top": null,
            "visibility": "hidden",
            "width": null
          }
        },
        "c0ae8c84390b4c309f9d4fc096af7940": {
          "model_module": "@jupyter-widgets/base",
          "model_module_version": "1.2.0",
          "model_name": "LayoutModel",
          "state": {
            "_model_module": "@jupyter-widgets/base",
            "_model_module_version": "1.2.0",
            "_model_name": "LayoutModel",
            "_view_count": null,
            "_view_module": "@jupyter-widgets/base",
            "_view_module_version": "1.2.0",
            "_view_name": "LayoutView",
            "align_content": null,
            "align_items": null,
            "align_self": null,
            "border": null,
            "bottom": null,
            "display": null,
            "flex": null,
            "flex_flow": null,
            "grid_area": null,
            "grid_auto_columns": null,
            "grid_auto_flow": null,
            "grid_auto_rows": null,
            "grid_column": null,
            "grid_gap": null,
            "grid_row": null,
            "grid_template_areas": null,
            "grid_template_columns": null,
            "grid_template_rows": null,
            "height": null,
            "justify_content": null,
            "justify_items": null,
            "left": null,
            "margin": null,
            "max_height": null,
            "max_width": null,
            "min_height": null,
            "min_width": null,
            "object_fit": null,
            "object_position": null,
            "order": null,
            "overflow": null,
            "overflow_x": null,
            "overflow_y": null,
            "padding": null,
            "right": null,
            "top": null,
            "visibility": null,
            "width": null
          }
        },
        "c228c17647fa45a9b90e34e2f5da3ec6": {
          "model_module": "@jupyter-widgets/base",
          "model_module_version": "1.2.0",
          "model_name": "LayoutModel",
          "state": {
            "_model_module": "@jupyter-widgets/base",
            "_model_module_version": "1.2.0",
            "_model_name": "LayoutModel",
            "_view_count": null,
            "_view_module": "@jupyter-widgets/base",
            "_view_module_version": "1.2.0",
            "_view_name": "LayoutView",
            "align_content": null,
            "align_items": null,
            "align_self": null,
            "border": null,
            "bottom": null,
            "display": null,
            "flex": null,
            "flex_flow": null,
            "grid_area": null,
            "grid_auto_columns": null,
            "grid_auto_flow": null,
            "grid_auto_rows": null,
            "grid_column": null,
            "grid_gap": null,
            "grid_row": null,
            "grid_template_areas": null,
            "grid_template_columns": null,
            "grid_template_rows": null,
            "height": null,
            "justify_content": null,
            "justify_items": null,
            "left": null,
            "margin": null,
            "max_height": null,
            "max_width": null,
            "min_height": null,
            "min_width": null,
            "object_fit": null,
            "object_position": null,
            "order": null,
            "overflow": null,
            "overflow_x": null,
            "overflow_y": null,
            "padding": null,
            "right": null,
            "top": null,
            "visibility": null,
            "width": null
          }
        },
        "c233b7c68e3f4a5db87ab48775fa051c": {
          "model_module": "@jupyter-widgets/controls",
          "model_module_version": "1.5.0",
          "model_name": "ProgressStyleModel",
          "state": {
            "_model_module": "@jupyter-widgets/controls",
            "_model_module_version": "1.5.0",
            "_model_name": "ProgressStyleModel",
            "_view_count": null,
            "_view_module": "@jupyter-widgets/base",
            "_view_module_version": "1.2.0",
            "_view_name": "StyleView",
            "bar_color": null,
            "description_width": ""
          }
        },
        "c573803216c148f0a1cfb3adb421de87": {
          "model_module": "@jupyter-widgets/controls",
          "model_module_version": "1.5.0",
          "model_name": "HTMLModel",
          "state": {
            "_dom_classes": [],
            "_model_module": "@jupyter-widgets/controls",
            "_model_module_version": "1.5.0",
            "_model_name": "HTMLModel",
            "_view_count": null,
            "_view_module": "@jupyter-widgets/controls",
            "_view_module_version": "1.5.0",
            "_view_name": "HTMLView",
            "description": "",
            "description_tooltip": null,
            "layout": "IPY_MODEL_3bf0fca5f9964a348954d5366695d7e4",
            "placeholder": "​",
            "style": "IPY_MODEL_8dc8359716474b68a0beae014afa9b60",
            "value": "Processing:   0%"
          }
        },
        "ce6fb3ff536a4d2eac8fbc7739823e88": {
          "model_module": "@jupyter-widgets/base",
          "model_module_version": "1.2.0",
          "model_name": "LayoutModel",
          "state": {
            "_model_module": "@jupyter-widgets/base",
            "_model_module_version": "1.2.0",
            "_model_name": "LayoutModel",
            "_view_count": null,
            "_view_module": "@jupyter-widgets/base",
            "_view_module_version": "1.2.0",
            "_view_name": "LayoutView",
            "align_content": null,
            "align_items": null,
            "align_self": null,
            "border": null,
            "bottom": null,
            "display": null,
            "flex": null,
            "flex_flow": null,
            "grid_area": null,
            "grid_auto_columns": null,
            "grid_auto_flow": null,
            "grid_auto_rows": null,
            "grid_column": null,
            "grid_gap": null,
            "grid_row": null,
            "grid_template_areas": null,
            "grid_template_columns": null,
            "grid_template_rows": null,
            "height": null,
            "justify_content": null,
            "justify_items": null,
            "left": null,
            "margin": null,
            "max_height": null,
            "max_width": null,
            "min_height": null,
            "min_width": null,
            "object_fit": null,
            "object_position": null,
            "order": null,
            "overflow": null,
            "overflow_x": null,
            "overflow_y": null,
            "padding": null,
            "right": null,
            "top": null,
            "visibility": null,
            "width": null
          }
        },
        "d14a438ff3f64d0f89cce2b4eca10478": {
          "model_module": "@jupyter-widgets/base",
          "model_module_version": "1.2.0",
          "model_name": "LayoutModel",
          "state": {
            "_model_module": "@jupyter-widgets/base",
            "_model_module_version": "1.2.0",
            "_model_name": "LayoutModel",
            "_view_count": null,
            "_view_module": "@jupyter-widgets/base",
            "_view_module_version": "1.2.0",
            "_view_name": "LayoutView",
            "align_content": null,
            "align_items": null,
            "align_self": null,
            "border": null,
            "bottom": null,
            "display": null,
            "flex": null,
            "flex_flow": null,
            "grid_area": null,
            "grid_auto_columns": null,
            "grid_auto_flow": null,
            "grid_auto_rows": null,
            "grid_column": null,
            "grid_gap": null,
            "grid_row": null,
            "grid_template_areas": null,
            "grid_template_columns": null,
            "grid_template_rows": null,
            "height": null,
            "justify_content": null,
            "justify_items": null,
            "left": null,
            "margin": null,
            "max_height": null,
            "max_width": null,
            "min_height": null,
            "min_width": null,
            "object_fit": null,
            "object_position": null,
            "order": null,
            "overflow": null,
            "overflow_x": null,
            "overflow_y": null,
            "padding": null,
            "right": null,
            "top": null,
            "visibility": null,
            "width": null
          }
        },
        "d29f50fc44b048b782841320d7a5a8aa": {
          "model_module": "@jupyter-widgets/base",
          "model_module_version": "1.2.0",
          "model_name": "LayoutModel",
          "state": {
            "_model_module": "@jupyter-widgets/base",
            "_model_module_version": "1.2.0",
            "_model_name": "LayoutModel",
            "_view_count": null,
            "_view_module": "@jupyter-widgets/base",
            "_view_module_version": "1.2.0",
            "_view_name": "LayoutView",
            "align_content": null,
            "align_items": null,
            "align_self": null,
            "border": null,
            "bottom": null,
            "display": null,
            "flex": null,
            "flex_flow": null,
            "grid_area": null,
            "grid_auto_columns": null,
            "grid_auto_flow": null,
            "grid_auto_rows": null,
            "grid_column": null,
            "grid_gap": null,
            "grid_row": null,
            "grid_template_areas": null,
            "grid_template_columns": null,
            "grid_template_rows": null,
            "height": null,
            "justify_content": null,
            "justify_items": null,
            "left": null,
            "margin": null,
            "max_height": null,
            "max_width": null,
            "min_height": null,
            "min_width": null,
            "object_fit": null,
            "object_position": null,
            "order": null,
            "overflow": null,
            "overflow_x": null,
            "overflow_y": null,
            "padding": null,
            "right": null,
            "top": null,
            "visibility": null,
            "width": null
          }
        },
        "dbad37a4834b44aab30522fd857e5b51": {
          "model_module": "@jupyter-widgets/base",
          "model_module_version": "1.2.0",
          "model_name": "LayoutModel",
          "state": {
            "_model_module": "@jupyter-widgets/base",
            "_model_module_version": "1.2.0",
            "_model_name": "LayoutModel",
            "_view_count": null,
            "_view_module": "@jupyter-widgets/base",
            "_view_module_version": "1.2.0",
            "_view_name": "LayoutView",
            "align_content": null,
            "align_items": null,
            "align_self": null,
            "border": null,
            "bottom": null,
            "display": null,
            "flex": null,
            "flex_flow": null,
            "grid_area": null,
            "grid_auto_columns": null,
            "grid_auto_flow": null,
            "grid_auto_rows": null,
            "grid_column": null,
            "grid_gap": null,
            "grid_row": null,
            "grid_template_areas": null,
            "grid_template_columns": null,
            "grid_template_rows": null,
            "height": null,
            "justify_content": null,
            "justify_items": null,
            "left": null,
            "margin": null,
            "max_height": null,
            "max_width": null,
            "min_height": null,
            "min_width": null,
            "object_fit": null,
            "object_position": null,
            "order": null,
            "overflow": null,
            "overflow_x": null,
            "overflow_y": null,
            "padding": null,
            "right": null,
            "top": null,
            "visibility": null,
            "width": null
          }
        },
        "e088f49df0a24e78a2a94152410e65ae": {
          "model_module": "@jupyter-widgets/base",
          "model_module_version": "1.2.0",
          "model_name": "LayoutModel",
          "state": {
            "_model_module": "@jupyter-widgets/base",
            "_model_module_version": "1.2.0",
            "_model_name": "LayoutModel",
            "_view_count": null,
            "_view_module": "@jupyter-widgets/base",
            "_view_module_version": "1.2.0",
            "_view_name": "LayoutView",
            "align_content": null,
            "align_items": null,
            "align_self": null,
            "border": null,
            "bottom": null,
            "display": null,
            "flex": null,
            "flex_flow": null,
            "grid_area": null,
            "grid_auto_columns": null,
            "grid_auto_flow": null,
            "grid_auto_rows": null,
            "grid_column": null,
            "grid_gap": null,
            "grid_row": null,
            "grid_template_areas": null,
            "grid_template_columns": null,
            "grid_template_rows": null,
            "height": null,
            "justify_content": null,
            "justify_items": null,
            "left": null,
            "margin": null,
            "max_height": null,
            "max_width": null,
            "min_height": null,
            "min_width": null,
            "object_fit": null,
            "object_position": null,
            "order": null,
            "overflow": null,
            "overflow_x": null,
            "overflow_y": null,
            "padding": null,
            "right": null,
            "top": null,
            "visibility": "hidden",
            "width": null
          }
        },
        "e7474c735242412b8bd86204f18f9600": {
          "model_module": "@jupyter-widgets/base",
          "model_module_version": "1.2.0",
          "model_name": "LayoutModel",
          "state": {
            "_model_module": "@jupyter-widgets/base",
            "_model_module_version": "1.2.0",
            "_model_name": "LayoutModel",
            "_view_count": null,
            "_view_module": "@jupyter-widgets/base",
            "_view_module_version": "1.2.0",
            "_view_name": "LayoutView",
            "align_content": null,
            "align_items": null,
            "align_self": null,
            "border": null,
            "bottom": null,
            "display": null,
            "flex": null,
            "flex_flow": null,
            "grid_area": null,
            "grid_auto_columns": null,
            "grid_auto_flow": null,
            "grid_auto_rows": null,
            "grid_column": null,
            "grid_gap": null,
            "grid_row": null,
            "grid_template_areas": null,
            "grid_template_columns": null,
            "grid_template_rows": null,
            "height": null,
            "justify_content": null,
            "justify_items": null,
            "left": null,
            "margin": null,
            "max_height": null,
            "max_width": null,
            "min_height": null,
            "min_width": null,
            "object_fit": null,
            "object_position": null,
            "order": null,
            "overflow": null,
            "overflow_x": null,
            "overflow_y": null,
            "padding": null,
            "right": null,
            "top": null,
            "visibility": null,
            "width": null
          }
        },
        "e906884e7f9a4724bd52f07448fca14e": {
          "model_module": "@jupyter-widgets/base",
          "model_module_version": "1.2.0",
          "model_name": "LayoutModel",
          "state": {
            "_model_module": "@jupyter-widgets/base",
            "_model_module_version": "1.2.0",
            "_model_name": "LayoutModel",
            "_view_count": null,
            "_view_module": "@jupyter-widgets/base",
            "_view_module_version": "1.2.0",
            "_view_name": "LayoutView",
            "align_content": null,
            "align_items": null,
            "align_self": null,
            "border": null,
            "bottom": null,
            "display": null,
            "flex": null,
            "flex_flow": null,
            "grid_area": null,
            "grid_auto_columns": null,
            "grid_auto_flow": null,
            "grid_auto_rows": null,
            "grid_column": null,
            "grid_gap": null,
            "grid_row": null,
            "grid_template_areas": null,
            "grid_template_columns": null,
            "grid_template_rows": null,
            "height": null,
            "justify_content": null,
            "justify_items": null,
            "left": null,
            "margin": null,
            "max_height": null,
            "max_width": null,
            "min_height": null,
            "min_width": null,
            "object_fit": null,
            "object_position": null,
            "order": null,
            "overflow": null,
            "overflow_x": null,
            "overflow_y": null,
            "padding": null,
            "right": null,
            "top": null,
            "visibility": "hidden",
            "width": null
          }
        },
        "ed9d8128ffc84def8e3d53db935a747e": {
          "model_module": "@jupyter-widgets/controls",
          "model_module_version": "1.5.0",
          "model_name": "DescriptionStyleModel",
          "state": {
            "_model_module": "@jupyter-widgets/controls",
            "_model_module_version": "1.5.0",
            "_model_name": "DescriptionStyleModel",
            "_view_count": null,
            "_view_module": "@jupyter-widgets/base",
            "_view_module_version": "1.2.0",
            "_view_name": "StyleView",
            "description_width": ""
          }
        },
        "ee5b55dd3de34d6dbf796c2fcbc5b91b": {
          "model_module": "@jupyter-widgets/controls",
          "model_module_version": "1.5.0",
          "model_name": "HTMLModel",
          "state": {
            "_dom_classes": [],
            "_model_module": "@jupyter-widgets/controls",
            "_model_module_version": "1.5.0",
            "_model_name": "HTMLModel",
            "_view_count": null,
            "_view_module": "@jupyter-widgets/controls",
            "_view_module_version": "1.5.0",
            "_view_name": "HTMLView",
            "description": "",
            "description_tooltip": null,
            "layout": "IPY_MODEL_d29f50fc44b048b782841320d7a5a8aa",
            "placeholder": "​",
            "style": "IPY_MODEL_14c9179787074b5783c81366b2f2cf8b",
            "value": "Processing:   0%"
          }
        },
        "eec3c98b7970433dabf52de618f858a0": {
          "model_module": "@jupyter-widgets/base",
          "model_module_version": "1.2.0",
          "model_name": "LayoutModel",
          "state": {
            "_model_module": "@jupyter-widgets/base",
            "_model_module_version": "1.2.0",
            "_model_name": "LayoutModel",
            "_view_count": null,
            "_view_module": "@jupyter-widgets/base",
            "_view_module_version": "1.2.0",
            "_view_name": "LayoutView",
            "align_content": null,
            "align_items": null,
            "align_self": null,
            "border": null,
            "bottom": null,
            "display": null,
            "flex": null,
            "flex_flow": null,
            "grid_area": null,
            "grid_auto_columns": null,
            "grid_auto_flow": null,
            "grid_auto_rows": null,
            "grid_column": null,
            "grid_gap": null,
            "grid_row": null,
            "grid_template_areas": null,
            "grid_template_columns": null,
            "grid_template_rows": null,
            "height": null,
            "justify_content": null,
            "justify_items": null,
            "left": null,
            "margin": null,
            "max_height": null,
            "max_width": null,
            "min_height": null,
            "min_width": null,
            "object_fit": null,
            "object_position": null,
            "order": null,
            "overflow": null,
            "overflow_x": null,
            "overflow_y": null,
            "padding": null,
            "right": null,
            "top": null,
            "visibility": null,
            "width": null
          }
        },
        "f0be8256a20849628aaf32db5e7817eb": {
          "model_module": "@jupyter-widgets/controls",
          "model_module_version": "1.5.0",
          "model_name": "HTMLModel",
          "state": {
            "_dom_classes": [],
            "_model_module": "@jupyter-widgets/controls",
            "_model_module_version": "1.5.0",
            "_model_name": "HTMLModel",
            "_view_count": null,
            "_view_module": "@jupyter-widgets/controls",
            "_view_module_version": "1.5.0",
            "_view_name": "HTMLView",
            "description": "",
            "description_tooltip": null,
            "layout": "IPY_MODEL_863b1c9b28084e7997b37f31fcfefdc2",
            "placeholder": "​",
            "style": "IPY_MODEL_48b01917dcb246a099daca139438fd0c",
            "value": " 0/3 [00:00&lt;?, ?it/s]"
          }
        },
        "f267bbcec6cd41fa91e90deb9452b0bb": {
          "model_module": "@jupyter-widgets/controls",
          "model_module_version": "1.5.0",
          "model_name": "HBoxModel",
          "state": {
            "_dom_classes": [],
            "_model_module": "@jupyter-widgets/controls",
            "_model_module_version": "1.5.0",
            "_model_name": "HBoxModel",
            "_view_count": null,
            "_view_module": "@jupyter-widgets/controls",
            "_view_module_version": "1.5.0",
            "_view_name": "HBoxView",
            "box_style": "",
            "children": [
              "IPY_MODEL_30d1cea2f33442a0a2d5afe95d8595b4",
              "IPY_MODEL_84b5e2c25ab54d3ba00d605c06631a39",
              "IPY_MODEL_6eacf75e4a5c45efa66990425ad18b03"
            ],
            "layout": "IPY_MODEL_67a0f12eb3a84d52bbc0a783c9257feb"
          }
        },
        "f3ec22e5282a4c3abe8939b5360f8110": {
          "model_module": "@jupyter-widgets/controls",
          "model_module_version": "1.5.0",
          "model_name": "ProgressStyleModel",
          "state": {
            "_model_module": "@jupyter-widgets/controls",
            "_model_module_version": "1.5.0",
            "_model_name": "ProgressStyleModel",
            "_view_count": null,
            "_view_module": "@jupyter-widgets/base",
            "_view_module_version": "1.2.0",
            "_view_name": "StyleView",
            "bar_color": null,
            "description_width": ""
          }
        },
        "ff1d91481e344f2d97c14c4ecc83210c": {
          "model_module": "@jupyter-widgets/controls",
          "model_module_version": "1.5.0",
          "model_name": "HTMLModel",
          "state": {
            "_dom_classes": [],
            "_model_module": "@jupyter-widgets/controls",
            "_model_module_version": "1.5.0",
            "_model_name": "HTMLModel",
            "_view_count": null,
            "_view_module": "@jupyter-widgets/controls",
            "_view_module_version": "1.5.0",
            "_view_name": "HTMLView",
            "description": "",
            "description_tooltip": null,
            "layout": "IPY_MODEL_4bd7348bbed642699ab460b9d6e01015",
            "placeholder": "​",
            "style": "IPY_MODEL_392941f942c2478081b4096e79c54528",
            "value": "Processing:   0%"
          }
        }
      }
    }
  },
  "nbformat": 4,
  "nbformat_minor": 0
}
